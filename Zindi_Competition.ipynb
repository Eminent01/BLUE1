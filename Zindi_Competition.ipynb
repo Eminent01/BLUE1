{
  "nbformat": 4,
  "nbformat_minor": 0,
  "metadata": {
    "accelerator": "GPU",
    "colab": {
      "name": "Zindi Competition.ipynb",
      "provenance": [],
      "collapsed_sections": [],
      "toc_visible": true
    },
    "kernelspec": {
      "display_name": "Python 3",
      "name": "python3"
    },
    "language_info": {
      "name": "python"
    }
  },
  "cells": [
    {
      "cell_type": "code",
      "metadata": {
        "id": "nQZt_hD9RMg_"
      },
      "source": [
        "# import libraries\n",
        "import pandas as pd\n",
        "import tensorflow as tf\n",
        "import os\n",
        "import matplotlib.pyplot as plt\n",
        "import numpy as np\n",
        "import math\n",
        "import sys\n",
        "import scipy\n",
        "from sklearn.model_selection import train_test_split\n",
        "from sklearn.preprocessing import LabelEncoder\n",
        "from sklearn.preprocessing import StandardScaler\n",
        "from keras.models import Sequential\n",
        "from keras.layers import Dense\n",
        "from keras import metrics\n",
        "from keras.wrappers.scikit_learn import KerasRegressor\n",
        "from tensorflow import keras\n",
        "from google.colab import files\n",
        "import seaborn as sns\n",
        "import warnings\n",
        "\n",
        "import random\n",
        "import librosa, IPython\n",
        "import librosa.display as lplt\n",
        "sns.set_style('whitegrid')\n",
        "%matplotlib inline\n",
        "seed = 12\n",
        "np.random.seed(seed)\n",
        "warnings.filterwarnings('ignore')"
      ],
      "execution_count": 7,
      "outputs": []
    },
    {
      "cell_type": "markdown",
      "metadata": {
        "id": "KbbPm5kkjJFK"
      },
      "source": [
        "Loading the datasets"
      ]
    },
    {
      "cell_type": "code",
      "metadata": {
        "id": "Cxdp-WTgTvI4"
      },
      "source": [
        "Train=pd.read_csv(\"/content/Train.csv\")"
      ],
      "execution_count": 8,
      "outputs": []
    },
    {
      "cell_type": "code",
      "metadata": {
        "id": "3wRkERHTVtcS"
      },
      "source": [
        "Test=pd.read_csv(\"/content/Test.csv\")"
      ],
      "execution_count": 9,
      "outputs": []
    },
    {
      "cell_type": "code",
      "metadata": {
        "id": "Nz2zOfrwyoyS"
      },
      "source": [
        "Train=Train.drop(['ID'],axis=1) #Drop the ID column in the train Dataset"
      ],
      "execution_count": 10,
      "outputs": []
    },
    {
      "cell_type": "code",
      "metadata": {
        "id": "zmCTfyBkuvSs"
      },
      "source": [
        "Test=Test.drop('ID', axis=1) #Drop the ID column in the Test Dataset"
      ],
      "execution_count": 11,
      "outputs": []
    },
    {
      "cell_type": "code",
      "metadata": {
        "id": "f5klIGMSSB7v"
      },
      "source": [
        "X_val=Train[Train['country']==\"Guinea\"] #Splitting the Train set by countyr(guinea)"
      ],
      "execution_count": 12,
      "outputs": []
    },
    {
      "cell_type": "code",
      "metadata": {
        "colab": {
          "base_uri": "https://localhost:8080/",
          "height": 444
        },
        "id": "g-eoL_6jWJ7d",
        "outputId": "33236593-8d0b-4bcd-e282-232da7dbca5f"
      },
      "source": [
        "X_val"
      ],
      "execution_count": 13,
      "outputs": [
        {
          "output_type": "execute_result",
          "data": {
            "text/html": [
              "<div>\n",
              "<style scoped>\n",
              "    .dataframe tbody tr th:only-of-type {\n",
              "        vertical-align: middle;\n",
              "    }\n",
              "\n",
              "    .dataframe tbody tr th {\n",
              "        vertical-align: top;\n",
              "    }\n",
              "\n",
              "    .dataframe thead th {\n",
              "        text-align: right;\n",
              "    }\n",
              "</style>\n",
              "<table border=\"1\" class=\"dataframe\">\n",
              "  <thead>\n",
              "    <tr style=\"text-align: right;\">\n",
              "      <th></th>\n",
              "      <th>country</th>\n",
              "      <th>year</th>\n",
              "      <th>urban_or_rural</th>\n",
              "      <th>ghsl_water_surface</th>\n",
              "      <th>ghsl_built_pre_1975</th>\n",
              "      <th>ghsl_built_1975_to_1990</th>\n",
              "      <th>ghsl_built_1990_to_2000</th>\n",
              "      <th>ghsl_built_2000_to_2014</th>\n",
              "      <th>ghsl_not_built_up</th>\n",
              "      <th>ghsl_pop_density</th>\n",
              "      <th>landcover_crops_fraction</th>\n",
              "      <th>landcover_urban_fraction</th>\n",
              "      <th>landcover_water_permanent_10km_fraction</th>\n",
              "      <th>landcover_water_seasonal_10km_fraction</th>\n",
              "      <th>nighttime_lights</th>\n",
              "      <th>dist_to_capital</th>\n",
              "      <th>dist_to_shoreline</th>\n",
              "      <th>Target</th>\n",
              "    </tr>\n",
              "  </thead>\n",
              "  <tbody>\n",
              "    <tr>\n",
              "      <th>4</th>\n",
              "      <td>Guinea</td>\n",
              "      <td>2012</td>\n",
              "      <td>U</td>\n",
              "      <td>0.000000</td>\n",
              "      <td>0.011649</td>\n",
              "      <td>0.017560</td>\n",
              "      <td>0.017383</td>\n",
              "      <td>0.099875</td>\n",
              "      <td>0.853533</td>\n",
              "      <td>31.734661</td>\n",
              "      <td>5.081620</td>\n",
              "      <td>22.815984</td>\n",
              "      <td>0.005047</td>\n",
              "      <td>0.130475</td>\n",
              "      <td>1.461894</td>\n",
              "      <td>222.867189</td>\n",
              "      <td>192.926363</td>\n",
              "      <td>0.605328</td>\n",
              "    </tr>\n",
              "    <tr>\n",
              "      <th>83</th>\n",
              "      <td>Guinea</td>\n",
              "      <td>2012</td>\n",
              "      <td>R</td>\n",
              "      <td>0.000000</td>\n",
              "      <td>0.000000</td>\n",
              "      <td>0.000072</td>\n",
              "      <td>0.000469</td>\n",
              "      <td>0.010801</td>\n",
              "      <td>0.988658</td>\n",
              "      <td>9.396592</td>\n",
              "      <td>7.771570</td>\n",
              "      <td>3.645846</td>\n",
              "      <td>0.000000</td>\n",
              "      <td>0.000000</td>\n",
              "      <td>0.000000</td>\n",
              "      <td>224.742328</td>\n",
              "      <td>191.075465</td>\n",
              "      <td>0.194010</td>\n",
              "    </tr>\n",
              "    <tr>\n",
              "      <th>121</th>\n",
              "      <td>Guinea</td>\n",
              "      <td>2012</td>\n",
              "      <td>R</td>\n",
              "      <td>0.000000</td>\n",
              "      <td>0.000373</td>\n",
              "      <td>0.000820</td>\n",
              "      <td>0.002069</td>\n",
              "      <td>0.000508</td>\n",
              "      <td>0.996230</td>\n",
              "      <td>6.650227</td>\n",
              "      <td>11.531870</td>\n",
              "      <td>0.947606</td>\n",
              "      <td>0.000285</td>\n",
              "      <td>0.070643</td>\n",
              "      <td>0.000000</td>\n",
              "      <td>152.723675</td>\n",
              "      <td>20.987818</td>\n",
              "      <td>0.232571</td>\n",
              "    </tr>\n",
              "    <tr>\n",
              "      <th>154</th>\n",
              "      <td>Guinea</td>\n",
              "      <td>2012</td>\n",
              "      <td>R</td>\n",
              "      <td>0.000000</td>\n",
              "      <td>0.000000</td>\n",
              "      <td>0.000000</td>\n",
              "      <td>0.000000</td>\n",
              "      <td>0.000054</td>\n",
              "      <td>0.999946</td>\n",
              "      <td>2.444998</td>\n",
              "      <td>12.987240</td>\n",
              "      <td>2.067382</td>\n",
              "      <td>0.000000</td>\n",
              "      <td>0.675006</td>\n",
              "      <td>0.000000</td>\n",
              "      <td>326.165952</td>\n",
              "      <td>297.131871</td>\n",
              "      <td>0.290080</td>\n",
              "    </tr>\n",
              "    <tr>\n",
              "      <th>165</th>\n",
              "      <td>Guinea</td>\n",
              "      <td>1999</td>\n",
              "      <td>U</td>\n",
              "      <td>0.000000</td>\n",
              "      <td>0.083101</td>\n",
              "      <td>0.064724</td>\n",
              "      <td>0.062089</td>\n",
              "      <td>0.083171</td>\n",
              "      <td>0.706915</td>\n",
              "      <td>123.764385</td>\n",
              "      <td>15.443530</td>\n",
              "      <td>32.513295</td>\n",
              "      <td>0.130533</td>\n",
              "      <td>1.125885</td>\n",
              "      <td>3.366133</td>\n",
              "      <td>108.543696</td>\n",
              "      <td>87.610351</td>\n",
              "      <td>0.477963</td>\n",
              "    </tr>\n",
              "    <tr>\n",
              "      <th>...</th>\n",
              "      <td>...</td>\n",
              "      <td>...</td>\n",
              "      <td>...</td>\n",
              "      <td>...</td>\n",
              "      <td>...</td>\n",
              "      <td>...</td>\n",
              "      <td>...</td>\n",
              "      <td>...</td>\n",
              "      <td>...</td>\n",
              "      <td>...</td>\n",
              "      <td>...</td>\n",
              "      <td>...</td>\n",
              "      <td>...</td>\n",
              "      <td>...</td>\n",
              "      <td>...</td>\n",
              "      <td>...</td>\n",
              "      <td>...</td>\n",
              "      <td>...</td>\n",
              "    </tr>\n",
              "    <tr>\n",
              "      <th>21391</th>\n",
              "      <td>Guinea</td>\n",
              "      <td>1999</td>\n",
              "      <td>U</td>\n",
              "      <td>0.206061</td>\n",
              "      <td>0.440912</td>\n",
              "      <td>0.089261</td>\n",
              "      <td>0.026805</td>\n",
              "      <td>0.016318</td>\n",
              "      <td>0.220644</td>\n",
              "      <td>589.877513</td>\n",
              "      <td>0.983788</td>\n",
              "      <td>71.752498</td>\n",
              "      <td>2.901246</td>\n",
              "      <td>2.326802</td>\n",
              "      <td>23.741983</td>\n",
              "      <td>12.200927</td>\n",
              "      <td>14.105058</td>\n",
              "      <td>0.488366</td>\n",
              "    </tr>\n",
              "    <tr>\n",
              "      <th>21402</th>\n",
              "      <td>Guinea</td>\n",
              "      <td>2012</td>\n",
              "      <td>R</td>\n",
              "      <td>0.000000</td>\n",
              "      <td>0.000036</td>\n",
              "      <td>0.000146</td>\n",
              "      <td>0.000073</td>\n",
              "      <td>0.000157</td>\n",
              "      <td>0.999588</td>\n",
              "      <td>0.984063</td>\n",
              "      <td>1.275874</td>\n",
              "      <td>0.380291</td>\n",
              "      <td>0.000000</td>\n",
              "      <td>0.296059</td>\n",
              "      <td>0.000000</td>\n",
              "      <td>82.524769</td>\n",
              "      <td>47.581878</td>\n",
              "      <td>0.160343</td>\n",
              "    </tr>\n",
              "    <tr>\n",
              "      <th>21407</th>\n",
              "      <td>Guinea</td>\n",
              "      <td>2012</td>\n",
              "      <td>R</td>\n",
              "      <td>0.000000</td>\n",
              "      <td>0.000000</td>\n",
              "      <td>0.000000</td>\n",
              "      <td>0.000090</td>\n",
              "      <td>0.021883</td>\n",
              "      <td>0.978027</td>\n",
              "      <td>12.090547</td>\n",
              "      <td>11.889860</td>\n",
              "      <td>1.343607</td>\n",
              "      <td>0.000000</td>\n",
              "      <td>0.000000</td>\n",
              "      <td>0.000000</td>\n",
              "      <td>245.661278</td>\n",
              "      <td>216.920566</td>\n",
              "      <td>0.184565</td>\n",
              "    </tr>\n",
              "    <tr>\n",
              "      <th>21425</th>\n",
              "      <td>Guinea</td>\n",
              "      <td>2012</td>\n",
              "      <td>R</td>\n",
              "      <td>0.000000</td>\n",
              "      <td>0.000000</td>\n",
              "      <td>0.000000</td>\n",
              "      <td>0.000036</td>\n",
              "      <td>0.000816</td>\n",
              "      <td>0.999147</td>\n",
              "      <td>0.645471</td>\n",
              "      <td>0.837050</td>\n",
              "      <td>0.179539</td>\n",
              "      <td>0.000394</td>\n",
              "      <td>0.097780</td>\n",
              "      <td>0.000000</td>\n",
              "      <td>165.592261</td>\n",
              "      <td>136.742942</td>\n",
              "      <td>0.183879</td>\n",
              "    </tr>\n",
              "    <tr>\n",
              "      <th>21439</th>\n",
              "      <td>Guinea</td>\n",
              "      <td>2012</td>\n",
              "      <td>U</td>\n",
              "      <td>0.590301</td>\n",
              "      <td>0.338977</td>\n",
              "      <td>0.028134</td>\n",
              "      <td>0.005837</td>\n",
              "      <td>0.007820</td>\n",
              "      <td>0.028929</td>\n",
              "      <td>197.634360</td>\n",
              "      <td>0.342392</td>\n",
              "      <td>92.416143</td>\n",
              "      <td>2.413222</td>\n",
              "      <td>3.081942</td>\n",
              "      <td>26.007563</td>\n",
              "      <td>6.343037</td>\n",
              "      <td>8.169696</td>\n",
              "      <td>0.885383</td>\n",
              "    </tr>\n",
              "  </tbody>\n",
              "</table>\n",
              "<p>593 rows × 18 columns</p>\n",
              "</div>"
            ],
            "text/plain": [
              "      country  year  ... dist_to_shoreline    Target\n",
              "4      Guinea  2012  ...        192.926363  0.605328\n",
              "83     Guinea  2012  ...        191.075465  0.194010\n",
              "121    Guinea  2012  ...         20.987818  0.232571\n",
              "154    Guinea  2012  ...        297.131871  0.290080\n",
              "165    Guinea  1999  ...         87.610351  0.477963\n",
              "...       ...   ...  ...               ...       ...\n",
              "21391  Guinea  1999  ...         14.105058  0.488366\n",
              "21402  Guinea  2012  ...         47.581878  0.160343\n",
              "21407  Guinea  2012  ...        216.920566  0.184565\n",
              "21425  Guinea  2012  ...        136.742942  0.183879\n",
              "21439  Guinea  2012  ...          8.169696  0.885383\n",
              "\n",
              "[593 rows x 18 columns]"
            ]
          },
          "metadata": {
            "tags": []
          },
          "execution_count": 13
        }
      ]
    },
    {
      "cell_type": "code",
      "metadata": {
        "id": "DxXwahE0S_WU"
      },
      "source": [
        "X_train=Train[Train[\"country\"] != \"Guinea\"] #X_train set is a set of country without guinea"
      ],
      "execution_count": 14,
      "outputs": []
    },
    {
      "cell_type": "code",
      "metadata": {
        "id": "Hr-bMHRppN4r"
      },
      "source": [
        "X_val_1=X_val.drop(['Target','country','year'], axis=1) ## drop the Target country and year"
      ],
      "execution_count": 15,
      "outputs": []
    },
    {
      "cell_type": "code",
      "metadata": {
        "id": "ySqN8R6eTvtO"
      },
      "source": [
        "y_val=X_val['Target'] # save the column Target into y_val"
      ],
      "execution_count": 16,
      "outputs": []
    },
    {
      "cell_type": "code",
      "metadata": {
        "id": "BU6ar-OuT-U4"
      },
      "source": [
        "X_train_1=X_train.drop(['Target','country','year'], axis=1)"
      ],
      "execution_count": 17,
      "outputs": []
    },
    {
      "cell_type": "code",
      "metadata": {
        "id": "eLJAvBnKUCkB"
      },
      "source": [
        "y_train=X_train[\"Target\"]"
      ],
      "execution_count": 18,
      "outputs": []
    },
    {
      "cell_type": "code",
      "metadata": {
        "id": "lrGT4B1IWgUu"
      },
      "source": [
        "# y=Train['Target']"
      ],
      "execution_count": 15,
      "outputs": []
    },
    {
      "cell_type": "code",
      "metadata": {
        "id": "NFAOPdHqWLDB"
      },
      "source": [
        "# X_train,X_val,y_train,y_val=train_test_split(X,y,test_size=0.15,random_state=42)"
      ],
      "execution_count": 16,
      "outputs": []
    },
    {
      "cell_type": "markdown",
      "metadata": {
        "id": "cSlVkTGvkKXs"
      },
      "source": [
        "Label encoding of the country"
      ]
    },
    {
      "cell_type": "code",
      "metadata": {
        "colab": {
          "base_uri": "https://localhost:8080/"
        },
        "id": "S-0zPZ3mXEMK",
        "outputId": "6ecaae76-c328-4424-df2b-b67426a69b9e"
      },
      "source": [
        "# map labels to index\n",
        "country_index = dict()\n",
        "index_country = dict()\n",
        "for i, x in enumerate(X_train_1.country.unique()):\n",
        "    country_index[x] = i\n",
        "    index_country[i] = x\n",
        "print(country_index)\n",
        "print(index_country)"
      ],
      "execution_count": 17,
      "outputs": [
        {
          "output_type": "stream",
          "text": [
            "{'Ethiopia': 0, 'Mozambique': 1, 'Malawi': 2, 'Cameroon': 3, 'Ghana': 4, 'Senegal': 5, 'Kenya': 6, 'Tanzania': 7, 'Mali': 8, 'Swaziland': 9, 'Rwanda': 10, 'Nigeria': 11, 'Lesotho': 12, 'Sierra Leone': 13, 'Central African Republic': 14, \"Cote d'Ivoire\": 15, 'Togo': 16}\n",
            "{0: 'Ethiopia', 1: 'Mozambique', 2: 'Malawi', 3: 'Cameroon', 4: 'Ghana', 5: 'Senegal', 6: 'Kenya', 7: 'Tanzania', 8: 'Mali', 9: 'Swaziland', 10: 'Rwanda', 11: 'Nigeria', 12: 'Lesotho', 13: 'Sierra Leone', 14: 'Central African Republic', 15: \"Cote d'Ivoire\", 16: 'Togo'}\n"
          ],
          "name": "stdout"
        }
      ]
    },
    {
      "cell_type": "code",
      "metadata": {
        "id": "KEb9IHFUYzuG"
      },
      "source": [
        "X_train_1.country = [country_index[l] for l in X_train_1.country]"
      ],
      "execution_count": 18,
      "outputs": []
    },
    {
      "cell_type": "code",
      "metadata": {
        "colab": {
          "base_uri": "https://localhost:8080/"
        },
        "id": "iDiXSF0EaFv8",
        "outputId": "7201b743-3fc6-4a94-b09e-58291730df94"
      },
      "source": [
        "# map labels to index\n",
        "country_index = dict()\n",
        "index_country = dict()\n",
        "for i, x in enumerate(X_val_1.country.unique()):\n",
        "    country_index[x] = i\n",
        "    index_country[i] = x\n",
        "print(country_index)\n",
        "print(index_country)"
      ],
      "execution_count": 19,
      "outputs": [
        {
          "output_type": "stream",
          "text": [
            "{'Guinea': 0}\n",
            "{0: 'Guinea'}\n"
          ],
          "name": "stdout"
        }
      ]
    },
    {
      "cell_type": "code",
      "metadata": {
        "id": "uaWD73QIaHaj"
      },
      "source": [
        "X_val_1.country = [country_index[l] for l in X_val.country]"
      ],
      "execution_count": 20,
      "outputs": []
    },
    {
      "cell_type": "code",
      "metadata": {
        "colab": {
          "base_uri": "https://localhost:8080/"
        },
        "id": "VqwhOAO8bIMt",
        "outputId": "7724bc39-729a-4182-f167-1436544d41a9"
      },
      "source": [
        "# map labels to index\n",
        "country_index = dict()\n",
        "index_country = dict()\n",
        "for i, x in enumerate(Test.country.unique()):\n",
        "    country_index[x] = i\n",
        "    index_country[i] = x\n",
        "print(country_index)\n",
        "print(index_country)"
      ],
      "execution_count": 21,
      "outputs": [
        {
          "output_type": "stream",
          "text": [
            "{'Democratic Republic of Congo': 0, 'Uganda': 1, 'Burkina Faso': 2, 'Zambia': 3, 'Angola': 4, 'Zimbabwe': 5, 'Benin': 6}\n",
            "{0: 'Democratic Republic of Congo', 1: 'Uganda', 2: 'Burkina Faso', 3: 'Zambia', 4: 'Angola', 5: 'Zimbabwe', 6: 'Benin'}\n"
          ],
          "name": "stdout"
        }
      ]
    },
    {
      "cell_type": "code",
      "metadata": {
        "id": "Swn5xPc50xs1"
      },
      "source": [
        "Test=Test.drop(['country','year'], axis=1)"
      ],
      "execution_count": 19,
      "outputs": []
    },
    {
      "cell_type": "code",
      "metadata": {
        "id": "cGLyHyj7bLB3"
      },
      "source": [
        "Test.country = [country_index[l] for l in Test.country]"
      ],
      "execution_count": 22,
      "outputs": []
    },
    {
      "cell_type": "markdown",
      "metadata": {
        "id": "fdTyX0SCkSV6"
      },
      "source": [
        "one hot encoding of the urban or rural column"
      ]
    },
    {
      "cell_type": "code",
      "metadata": {
        "id": "UBQ_wBs9brJR"
      },
      "source": [
        "X_train_1['urban_or_rural']=pd.get_dummies(X_train_1['urban_or_rural'])"
      ],
      "execution_count": 20,
      "outputs": []
    },
    {
      "cell_type": "code",
      "metadata": {
        "colab": {
          "base_uri": "https://localhost:8080/",
          "height": 444
        },
        "id": "jympSVkxsWhw",
        "outputId": "cb053dd5-6568-48ac-a532-ad8230c610d8"
      },
      "source": [
        "X_train_1"
      ],
      "execution_count": 21,
      "outputs": [
        {
          "output_type": "execute_result",
          "data": {
            "text/html": [
              "<div>\n",
              "<style scoped>\n",
              "    .dataframe tbody tr th:only-of-type {\n",
              "        vertical-align: middle;\n",
              "    }\n",
              "\n",
              "    .dataframe tbody tr th {\n",
              "        vertical-align: top;\n",
              "    }\n",
              "\n",
              "    .dataframe thead th {\n",
              "        text-align: right;\n",
              "    }\n",
              "</style>\n",
              "<table border=\"1\" class=\"dataframe\">\n",
              "  <thead>\n",
              "    <tr style=\"text-align: right;\">\n",
              "      <th></th>\n",
              "      <th>urban_or_rural</th>\n",
              "      <th>ghsl_water_surface</th>\n",
              "      <th>ghsl_built_pre_1975</th>\n",
              "      <th>ghsl_built_1975_to_1990</th>\n",
              "      <th>ghsl_built_1990_to_2000</th>\n",
              "      <th>ghsl_built_2000_to_2014</th>\n",
              "      <th>ghsl_not_built_up</th>\n",
              "      <th>ghsl_pop_density</th>\n",
              "      <th>landcover_crops_fraction</th>\n",
              "      <th>landcover_urban_fraction</th>\n",
              "      <th>landcover_water_permanent_10km_fraction</th>\n",
              "      <th>landcover_water_seasonal_10km_fraction</th>\n",
              "      <th>nighttime_lights</th>\n",
              "      <th>dist_to_capital</th>\n",
              "      <th>dist_to_shoreline</th>\n",
              "    </tr>\n",
              "  </thead>\n",
              "  <tbody>\n",
              "    <tr>\n",
              "      <th>0</th>\n",
              "      <td>1</td>\n",
              "      <td>0.0</td>\n",
              "      <td>0.000000</td>\n",
              "      <td>0.000000</td>\n",
              "      <td>0.000055</td>\n",
              "      <td>0.000536</td>\n",
              "      <td>0.999408</td>\n",
              "      <td>12.146134</td>\n",
              "      <td>25.489659</td>\n",
              "      <td>0.879484</td>\n",
              "      <td>0.000000</td>\n",
              "      <td>0.000000</td>\n",
              "      <td>0.000000</td>\n",
              "      <td>278.788451</td>\n",
              "      <td>769.338378</td>\n",
              "    </tr>\n",
              "    <tr>\n",
              "      <th>1</th>\n",
              "      <td>1</td>\n",
              "      <td>0.0</td>\n",
              "      <td>0.000000</td>\n",
              "      <td>0.000110</td>\n",
              "      <td>0.000000</td>\n",
              "      <td>0.000018</td>\n",
              "      <td>0.999872</td>\n",
              "      <td>113.806716</td>\n",
              "      <td>64.136053</td>\n",
              "      <td>0.601427</td>\n",
              "      <td>0.000000</td>\n",
              "      <td>0.005427</td>\n",
              "      <td>0.000000</td>\n",
              "      <td>200.986978</td>\n",
              "      <td>337.135243</td>\n",
              "    </tr>\n",
              "    <tr>\n",
              "      <th>2</th>\n",
              "      <td>1</td>\n",
              "      <td>0.0</td>\n",
              "      <td>0.000000</td>\n",
              "      <td>0.000000</td>\n",
              "      <td>0.000000</td>\n",
              "      <td>0.000000</td>\n",
              "      <td>1.000000</td>\n",
              "      <td>0.000000</td>\n",
              "      <td>4.400096</td>\n",
              "      <td>0.131900</td>\n",
              "      <td>0.000000</td>\n",
              "      <td>0.003078</td>\n",
              "      <td>0.000000</td>\n",
              "      <td>642.594208</td>\n",
              "      <td>169.913773</td>\n",
              "    </tr>\n",
              "    <tr>\n",
              "      <th>3</th>\n",
              "      <td>1</td>\n",
              "      <td>0.0</td>\n",
              "      <td>0.000141</td>\n",
              "      <td>0.000181</td>\n",
              "      <td>0.000254</td>\n",
              "      <td>0.000228</td>\n",
              "      <td>0.999195</td>\n",
              "      <td>5.213320</td>\n",
              "      <td>25.379371</td>\n",
              "      <td>2.017136</td>\n",
              "      <td>11.293841</td>\n",
              "      <td>0.131035</td>\n",
              "      <td>0.000000</td>\n",
              "      <td>365.349451</td>\n",
              "      <td>613.591610</td>\n",
              "    </tr>\n",
              "    <tr>\n",
              "      <th>5</th>\n",
              "      <td>0</td>\n",
              "      <td>0.0</td>\n",
              "      <td>0.008623</td>\n",
              "      <td>0.019409</td>\n",
              "      <td>0.059886</td>\n",
              "      <td>0.082682</td>\n",
              "      <td>0.829400</td>\n",
              "      <td>203.580507</td>\n",
              "      <td>24.629433</td>\n",
              "      <td>31.235708</td>\n",
              "      <td>0.000000</td>\n",
              "      <td>0.008223</td>\n",
              "      <td>22.981970</td>\n",
              "      <td>9.803702</td>\n",
              "      <td>487.790852</td>\n",
              "    </tr>\n",
              "    <tr>\n",
              "      <th>...</th>\n",
              "      <td>...</td>\n",
              "      <td>...</td>\n",
              "      <td>...</td>\n",
              "      <td>...</td>\n",
              "      <td>...</td>\n",
              "      <td>...</td>\n",
              "      <td>...</td>\n",
              "      <td>...</td>\n",
              "      <td>...</td>\n",
              "      <td>...</td>\n",
              "      <td>...</td>\n",
              "      <td>...</td>\n",
              "      <td>...</td>\n",
              "      <td>...</td>\n",
              "      <td>...</td>\n",
              "    </tr>\n",
              "    <tr>\n",
              "      <th>21449</th>\n",
              "      <td>1</td>\n",
              "      <td>0.0</td>\n",
              "      <td>0.002961</td>\n",
              "      <td>0.008240</td>\n",
              "      <td>0.002313</td>\n",
              "      <td>0.008068</td>\n",
              "      <td>0.978418</td>\n",
              "      <td>44.044352</td>\n",
              "      <td>12.551978</td>\n",
              "      <td>6.302902</td>\n",
              "      <td>0.000000</td>\n",
              "      <td>0.000000</td>\n",
              "      <td>1.955632</td>\n",
              "      <td>283.861037</td>\n",
              "      <td>159.790057</td>\n",
              "    </tr>\n",
              "    <tr>\n",
              "      <th>21450</th>\n",
              "      <td>1</td>\n",
              "      <td>0.0</td>\n",
              "      <td>0.000000</td>\n",
              "      <td>0.000000</td>\n",
              "      <td>0.000000</td>\n",
              "      <td>0.000000</td>\n",
              "      <td>1.000000</td>\n",
              "      <td>0.000000</td>\n",
              "      <td>27.848571</td>\n",
              "      <td>0.372267</td>\n",
              "      <td>0.000000</td>\n",
              "      <td>0.000000</td>\n",
              "      <td>0.000000</td>\n",
              "      <td>295.307249</td>\n",
              "      <td>122.976960</td>\n",
              "    </tr>\n",
              "    <tr>\n",
              "      <th>21451</th>\n",
              "      <td>1</td>\n",
              "      <td>0.0</td>\n",
              "      <td>0.000536</td>\n",
              "      <td>0.000092</td>\n",
              "      <td>0.000018</td>\n",
              "      <td>0.000074</td>\n",
              "      <td>0.999279</td>\n",
              "      <td>0.458143</td>\n",
              "      <td>3.679934</td>\n",
              "      <td>1.712136</td>\n",
              "      <td>0.000000</td>\n",
              "      <td>0.000000</td>\n",
              "      <td>0.442422</td>\n",
              "      <td>166.405249</td>\n",
              "      <td>155.365355</td>\n",
              "    </tr>\n",
              "    <tr>\n",
              "      <th>21452</th>\n",
              "      <td>1</td>\n",
              "      <td>0.0</td>\n",
              "      <td>0.000000</td>\n",
              "      <td>0.000000</td>\n",
              "      <td>0.000000</td>\n",
              "      <td>0.000000</td>\n",
              "      <td>1.000000</td>\n",
              "      <td>0.000000</td>\n",
              "      <td>12.331763</td>\n",
              "      <td>0.960163</td>\n",
              "      <td>0.001899</td>\n",
              "      <td>0.061126</td>\n",
              "      <td>0.000000</td>\n",
              "      <td>568.759665</td>\n",
              "      <td>534.638628</td>\n",
              "    </tr>\n",
              "    <tr>\n",
              "      <th>21453</th>\n",
              "      <td>1</td>\n",
              "      <td>0.0</td>\n",
              "      <td>0.000035</td>\n",
              "      <td>0.000000</td>\n",
              "      <td>0.002073</td>\n",
              "      <td>0.000337</td>\n",
              "      <td>0.997556</td>\n",
              "      <td>15.223655</td>\n",
              "      <td>15.192034</td>\n",
              "      <td>1.565308</td>\n",
              "      <td>0.000000</td>\n",
              "      <td>0.000000</td>\n",
              "      <td>0.000000</td>\n",
              "      <td>1486.151015</td>\n",
              "      <td>216.519408</td>\n",
              "    </tr>\n",
              "  </tbody>\n",
              "</table>\n",
              "<p>20861 rows × 15 columns</p>\n",
              "</div>"
            ],
            "text/plain": [
              "       urban_or_rural  ghsl_water_surface  ...  dist_to_capital  dist_to_shoreline\n",
              "0                   1                 0.0  ...       278.788451         769.338378\n",
              "1                   1                 0.0  ...       200.986978         337.135243\n",
              "2                   1                 0.0  ...       642.594208         169.913773\n",
              "3                   1                 0.0  ...       365.349451         613.591610\n",
              "5                   0                 0.0  ...         9.803702         487.790852\n",
              "...               ...                 ...  ...              ...                ...\n",
              "21449               1                 0.0  ...       283.861037         159.790057\n",
              "21450               1                 0.0  ...       295.307249         122.976960\n",
              "21451               1                 0.0  ...       166.405249         155.365355\n",
              "21452               1                 0.0  ...       568.759665         534.638628\n",
              "21453               1                 0.0  ...      1486.151015         216.519408\n",
              "\n",
              "[20861 rows x 15 columns]"
            ]
          },
          "metadata": {
            "tags": []
          },
          "execution_count": 21
        }
      ]
    },
    {
      "cell_type": "code",
      "metadata": {
        "id": "23liT37WcE4v"
      },
      "source": [
        "X_val_1['urban_or_rural']=pd.get_dummies(X_val['urban_or_rural'])"
      ],
      "execution_count": 22,
      "outputs": []
    },
    {
      "cell_type": "code",
      "metadata": {
        "id": "olkRuDcrcgmE"
      },
      "source": [
        "Test['urban_or_rural']=pd.get_dummies(Test['urban_or_rural'])"
      ],
      "execution_count": 23,
      "outputs": []
    },
    {
      "cell_type": "markdown",
      "metadata": {
        "id": "9el8sS__kd7z"
      },
      "source": [
        "Label encoding of the year variable"
      ]
    },
    {
      "cell_type": "code",
      "metadata": {
        "colab": {
          "base_uri": "https://localhost:8080/"
        },
        "id": "A_99sfwRif5G",
        "outputId": "2d70fd94-e951-44f5-a0ce-3c4bf89ad4d5"
      },
      "source": [
        "# map year in train to index\n",
        "year_index = dict()\n",
        "index_year = dict()\n",
        "for i, x in enumerate(X_train_1.year.unique()):\n",
        "    year_index[x] = i\n",
        "    index_year[i] = x\n",
        "print(year_index)\n",
        "print(index_year)"
      ],
      "execution_count": 27,
      "outputs": [
        {
          "output_type": "stream",
          "text": [
            "{2016: 0, 2005: 1, 2009: 2, 2015: 3, 2004: 4, 2014: 5, 2010: 6, 2011: 7, 1998: 8, 2006: 9, 2008: 10, 2003: 11, 2012: 12, 2007: 13, 2013: 14, 1994: 15, 1996: 16, 1999: 17, 1995: 18}\n",
            "{0: 2016, 1: 2005, 2: 2009, 3: 2015, 4: 2004, 5: 2014, 6: 2010, 7: 2011, 8: 1998, 9: 2006, 10: 2008, 11: 2003, 12: 2012, 13: 2007, 14: 2013, 15: 1994, 16: 1996, 17: 1999, 18: 1995}\n"
          ],
          "name": "stdout"
        }
      ]
    },
    {
      "cell_type": "code",
      "metadata": {
        "id": "ojGWEUBdjHCR"
      },
      "source": [
        "X_train_1.year = [year_index[l] for l in X_train_1.year]"
      ],
      "execution_count": 28,
      "outputs": []
    },
    {
      "cell_type": "code",
      "metadata": {
        "colab": {
          "base_uri": "https://localhost:8080/"
        },
        "id": "fvaKUsKmjS7T",
        "outputId": "5d4ddc30-9697-4b96-b13a-0897024d4269"
      },
      "source": [
        "# map year in val to index\n",
        "year_index = dict()\n",
        "index_year = dict()\n",
        "for i, x in enumerate(X_val_1.year.unique()):\n",
        "    year_index[x] = i\n",
        "    index_year[i] = x\n",
        "print(year_index)\n",
        "print(index_year)"
      ],
      "execution_count": 29,
      "outputs": [
        {
          "output_type": "stream",
          "text": [
            "{2012: 0, 1999: 1}\n",
            "{0: 2012, 1: 1999}\n"
          ],
          "name": "stdout"
        }
      ]
    },
    {
      "cell_type": "code",
      "metadata": {
        "id": "s5Pt0h-sjaPE"
      },
      "source": [
        "X_val_1.year = [year_index[l] for l in X_val_1.year]"
      ],
      "execution_count": 30,
      "outputs": []
    },
    {
      "cell_type": "code",
      "metadata": {
        "colab": {
          "base_uri": "https://localhost:8080/"
        },
        "id": "aPmYB8XbjkDM",
        "outputId": "8585db10-2a92-4e79-f869-dbb7b9be4073"
      },
      "source": [
        "# map year in test data to index\n",
        "year_index = dict()\n",
        "index_year = dict()\n",
        "for i, x in enumerate(Test.year.unique()):\n",
        "    year_index[x] = i\n",
        "    index_year[i] = x\n",
        "print(year_index)\n",
        "print(index_year)"
      ],
      "execution_count": 31,
      "outputs": [
        {
          "output_type": "stream",
          "text": [
            "{2007: 0, 2011: 1, 2010: 2, 2015: 3, 2013: 4, 2005: 5, 2014: 6, 2012: 7, 2016: 8, 2006: 9, 1999: 10, 2009: 11, 1998: 12}\n",
            "{0: 2007, 1: 2011, 2: 2010, 3: 2015, 4: 2013, 5: 2005, 6: 2014, 7: 2012, 8: 2016, 9: 2006, 10: 1999, 11: 2009, 12: 1998}\n"
          ],
          "name": "stdout"
        }
      ]
    },
    {
      "cell_type": "code",
      "metadata": {
        "id": "eE6sGblFjg-5"
      },
      "source": [
        "Test.year = [year_index[l] for l in Test.year]"
      ],
      "execution_count": 32,
      "outputs": []
    },
    {
      "cell_type": "code",
      "metadata": {
        "colab": {
          "base_uri": "https://localhost:8080/",
          "height": 226
        },
        "id": "KKc4bXFgdLBN",
        "outputId": "434d1530-57ab-468e-8794-069b098a4d75"
      },
      "source": [
        "X_train_1.sample(5)"
      ],
      "execution_count": 24,
      "outputs": [
        {
          "output_type": "execute_result",
          "data": {
            "text/html": [
              "<div>\n",
              "<style scoped>\n",
              "    .dataframe tbody tr th:only-of-type {\n",
              "        vertical-align: middle;\n",
              "    }\n",
              "\n",
              "    .dataframe tbody tr th {\n",
              "        vertical-align: top;\n",
              "    }\n",
              "\n",
              "    .dataframe thead th {\n",
              "        text-align: right;\n",
              "    }\n",
              "</style>\n",
              "<table border=\"1\" class=\"dataframe\">\n",
              "  <thead>\n",
              "    <tr style=\"text-align: right;\">\n",
              "      <th></th>\n",
              "      <th>urban_or_rural</th>\n",
              "      <th>ghsl_water_surface</th>\n",
              "      <th>ghsl_built_pre_1975</th>\n",
              "      <th>ghsl_built_1975_to_1990</th>\n",
              "      <th>ghsl_built_1990_to_2000</th>\n",
              "      <th>ghsl_built_2000_to_2014</th>\n",
              "      <th>ghsl_not_built_up</th>\n",
              "      <th>ghsl_pop_density</th>\n",
              "      <th>landcover_crops_fraction</th>\n",
              "      <th>landcover_urban_fraction</th>\n",
              "      <th>landcover_water_permanent_10km_fraction</th>\n",
              "      <th>landcover_water_seasonal_10km_fraction</th>\n",
              "      <th>nighttime_lights</th>\n",
              "      <th>dist_to_capital</th>\n",
              "      <th>dist_to_shoreline</th>\n",
              "    </tr>\n",
              "  </thead>\n",
              "  <tbody>\n",
              "    <tr>\n",
              "      <th>2350</th>\n",
              "      <td>0</td>\n",
              "      <td>0.030539</td>\n",
              "      <td>0.059488</td>\n",
              "      <td>0.163061</td>\n",
              "      <td>0.001399</td>\n",
              "      <td>0.055190</td>\n",
              "      <td>0.690322</td>\n",
              "      <td>244.843773</td>\n",
              "      <td>8.791062</td>\n",
              "      <td>33.493507</td>\n",
              "      <td>3.329922</td>\n",
              "      <td>1.580360</td>\n",
              "      <td>35.452853</td>\n",
              "      <td>9.209242</td>\n",
              "      <td>677.617171</td>\n",
              "    </tr>\n",
              "    <tr>\n",
              "      <th>3994</th>\n",
              "      <td>0</td>\n",
              "      <td>0.000000</td>\n",
              "      <td>0.004836</td>\n",
              "      <td>0.004744</td>\n",
              "      <td>0.005602</td>\n",
              "      <td>0.010730</td>\n",
              "      <td>0.974088</td>\n",
              "      <td>27.842311</td>\n",
              "      <td>46.920630</td>\n",
              "      <td>6.975733</td>\n",
              "      <td>0.000000</td>\n",
              "      <td>0.004848</td>\n",
              "      <td>3.260543</td>\n",
              "      <td>477.306873</td>\n",
              "      <td>675.711289</td>\n",
              "    </tr>\n",
              "    <tr>\n",
              "      <th>8288</th>\n",
              "      <td>0</td>\n",
              "      <td>0.000000</td>\n",
              "      <td>0.484165</td>\n",
              "      <td>0.000000</td>\n",
              "      <td>0.117152</td>\n",
              "      <td>0.121220</td>\n",
              "      <td>0.277464</td>\n",
              "      <td>802.736674</td>\n",
              "      <td>2.350065</td>\n",
              "      <td>81.163655</td>\n",
              "      <td>0.027856</td>\n",
              "      <td>0.237662</td>\n",
              "      <td>51.214714</td>\n",
              "      <td>386.498600</td>\n",
              "      <td>11.608316</td>\n",
              "    </tr>\n",
              "    <tr>\n",
              "      <th>7886</th>\n",
              "      <td>0</td>\n",
              "      <td>0.000000</td>\n",
              "      <td>0.000000</td>\n",
              "      <td>0.000000</td>\n",
              "      <td>0.000000</td>\n",
              "      <td>0.000038</td>\n",
              "      <td>0.999962</td>\n",
              "      <td>13.889355</td>\n",
              "      <td>32.974566</td>\n",
              "      <td>0.465033</td>\n",
              "      <td>1.258490</td>\n",
              "      <td>2.847156</td>\n",
              "      <td>0.000000</td>\n",
              "      <td>126.117994</td>\n",
              "      <td>497.762204</td>\n",
              "    </tr>\n",
              "    <tr>\n",
              "      <th>4052</th>\n",
              "      <td>0</td>\n",
              "      <td>0.023141</td>\n",
              "      <td>0.754091</td>\n",
              "      <td>0.000000</td>\n",
              "      <td>0.016665</td>\n",
              "      <td>0.014575</td>\n",
              "      <td>0.191528</td>\n",
              "      <td>563.618507</td>\n",
              "      <td>0.588059</td>\n",
              "      <td>76.135312</td>\n",
              "      <td>0.743212</td>\n",
              "      <td>0.291635</td>\n",
              "      <td>139.746702</td>\n",
              "      <td>211.935118</td>\n",
              "      <td>8.042227</td>\n",
              "    </tr>\n",
              "  </tbody>\n",
              "</table>\n",
              "</div>"
            ],
            "text/plain": [
              "      urban_or_rural  ghsl_water_surface  ...  dist_to_capital  dist_to_shoreline\n",
              "2350               0            0.030539  ...         9.209242         677.617171\n",
              "3994               0            0.000000  ...       477.306873         675.711289\n",
              "8288               0            0.000000  ...       386.498600          11.608316\n",
              "7886               0            0.000000  ...       126.117994         497.762204\n",
              "4052               0            0.023141  ...       211.935118           8.042227\n",
              "\n",
              "[5 rows x 15 columns]"
            ]
          },
          "metadata": {
            "tags": []
          },
          "execution_count": 24
        }
      ]
    },
    {
      "cell_type": "markdown",
      "metadata": {
        "id": "iZQL13_cknDa"
      },
      "source": [
        "Transformation of the datasets using MinMaxScaler"
      ]
    },
    {
      "cell_type": "code",
      "metadata": {
        "id": "FVmd3HvJeBeo"
      },
      "source": [
        "from sklearn.preprocessing import MinMaxScaler\n"
      ],
      "execution_count": 25,
      "outputs": []
    },
    {
      "cell_type": "code",
      "metadata": {
        "id": "5tAjh6ourMPs"
      },
      "source": [
        "def normalize(dataset):\n",
        "    dataNorm=((dataset-dataset.min())/(dataset.max()-dataset.min()))*20\n",
        "    #dataNorm[\"country\"]=dataset[\"country\"]\n",
        "    #dataNorm[\"year\"]=dataset[\"year\"]\n",
        "    dataNorm[\"urban_or_rural\"]=dataset[\"urban_or_rural\"]\n",
        "    return dataNorm"
      ],
      "execution_count": 26,
      "outputs": []
    },
    {
      "cell_type": "code",
      "metadata": {
        "id": "Z7T3o0visFa0"
      },
      "source": [
        "X_train=normalize(X_train_1)"
      ],
      "execution_count": 27,
      "outputs": []
    },
    {
      "cell_type": "code",
      "metadata": {
        "colab": {
          "base_uri": "https://localhost:8080/",
          "height": 444
        },
        "id": "sTobKMRog8rb",
        "outputId": "5e206479-beee-487f-dc4a-fd7c48ce4a8c"
      },
      "source": [
        "X_train"
      ],
      "execution_count": 28,
      "outputs": [
        {
          "output_type": "execute_result",
          "data": {
            "text/html": [
              "<div>\n",
              "<style scoped>\n",
              "    .dataframe tbody tr th:only-of-type {\n",
              "        vertical-align: middle;\n",
              "    }\n",
              "\n",
              "    .dataframe tbody tr th {\n",
              "        vertical-align: top;\n",
              "    }\n",
              "\n",
              "    .dataframe thead th {\n",
              "        text-align: right;\n",
              "    }\n",
              "</style>\n",
              "<table border=\"1\" class=\"dataframe\">\n",
              "  <thead>\n",
              "    <tr style=\"text-align: right;\">\n",
              "      <th></th>\n",
              "      <th>urban_or_rural</th>\n",
              "      <th>ghsl_water_surface</th>\n",
              "      <th>ghsl_built_pre_1975</th>\n",
              "      <th>ghsl_built_1975_to_1990</th>\n",
              "      <th>ghsl_built_1990_to_2000</th>\n",
              "      <th>ghsl_built_2000_to_2014</th>\n",
              "      <th>ghsl_not_built_up</th>\n",
              "      <th>ghsl_pop_density</th>\n",
              "      <th>landcover_crops_fraction</th>\n",
              "      <th>landcover_urban_fraction</th>\n",
              "      <th>landcover_water_permanent_10km_fraction</th>\n",
              "      <th>landcover_water_seasonal_10km_fraction</th>\n",
              "      <th>nighttime_lights</th>\n",
              "      <th>dist_to_capital</th>\n",
              "      <th>dist_to_shoreline</th>\n",
              "    </tr>\n",
              "  </thead>\n",
              "  <tbody>\n",
              "    <tr>\n",
              "      <th>0</th>\n",
              "      <td>1</td>\n",
              "      <td>0.0</td>\n",
              "      <td>0.000000</td>\n",
              "      <td>0.000000</td>\n",
              "      <td>0.002153</td>\n",
              "      <td>0.016527</td>\n",
              "      <td>19.988151</td>\n",
              "      <td>0.139510</td>\n",
              "      <td>6.367248</td>\n",
              "      <td>0.178062</td>\n",
              "      <td>0.000000</td>\n",
              "      <td>0.000000</td>\n",
              "      <td>0.000000</td>\n",
              "      <td>2.937765</td>\n",
              "      <td>8.694712</td>\n",
              "    </tr>\n",
              "    <tr>\n",
              "      <th>1</th>\n",
              "      <td>1</td>\n",
              "      <td>0.0</td>\n",
              "      <td>0.000000</td>\n",
              "      <td>0.003207</td>\n",
              "      <td>0.000000</td>\n",
              "      <td>0.000564</td>\n",
              "      <td>19.997435</td>\n",
              "      <td>1.307179</td>\n",
              "      <td>16.021013</td>\n",
              "      <td>0.121766</td>\n",
              "      <td>0.000000</td>\n",
              "      <td>0.001931</td>\n",
              "      <td>0.000000</td>\n",
              "      <td>2.117613</td>\n",
              "      <td>3.809437</td>\n",
              "    </tr>\n",
              "    <tr>\n",
              "      <th>2</th>\n",
              "      <td>1</td>\n",
              "      <td>0.0</td>\n",
              "      <td>0.000000</td>\n",
              "      <td>0.000000</td>\n",
              "      <td>0.000000</td>\n",
              "      <td>0.000000</td>\n",
              "      <td>20.000000</td>\n",
              "      <td>0.000000</td>\n",
              "      <td>1.099132</td>\n",
              "      <td>0.026705</td>\n",
              "      <td>0.000000</td>\n",
              "      <td>0.001095</td>\n",
              "      <td>0.000000</td>\n",
              "      <td>6.772857</td>\n",
              "      <td>1.919301</td>\n",
              "    </tr>\n",
              "    <tr>\n",
              "      <th>3</th>\n",
              "      <td>1</td>\n",
              "      <td>0.0</td>\n",
              "      <td>0.003204</td>\n",
              "      <td>0.005294</td>\n",
              "      <td>0.009868</td>\n",
              "      <td>0.007035</td>\n",
              "      <td>19.983896</td>\n",
              "      <td>0.059880</td>\n",
              "      <td>6.339698</td>\n",
              "      <td>0.408393</td>\n",
              "      <td>2.277810</td>\n",
              "      <td>0.046630</td>\n",
              "      <td>0.000000</td>\n",
              "      <td>3.850256</td>\n",
              "      <td>6.934276</td>\n",
              "    </tr>\n",
              "    <tr>\n",
              "      <th>5</th>\n",
              "      <td>0</td>\n",
              "      <td>0.0</td>\n",
              "      <td>0.196631</td>\n",
              "      <td>0.566678</td>\n",
              "      <td>2.323247</td>\n",
              "      <td>2.547343</td>\n",
              "      <td>16.585074</td>\n",
              "      <td>2.338317</td>\n",
              "      <td>6.152366</td>\n",
              "      <td>6.324036</td>\n",
              "      <td>0.000000</td>\n",
              "      <td>0.002926</td>\n",
              "      <td>1.200314</td>\n",
              "      <td>0.102237</td>\n",
              "      <td>5.512326</td>\n",
              "    </tr>\n",
              "    <tr>\n",
              "      <th>...</th>\n",
              "      <td>...</td>\n",
              "      <td>...</td>\n",
              "      <td>...</td>\n",
              "      <td>...</td>\n",
              "      <td>...</td>\n",
              "      <td>...</td>\n",
              "      <td>...</td>\n",
              "      <td>...</td>\n",
              "      <td>...</td>\n",
              "      <td>...</td>\n",
              "      <td>...</td>\n",
              "      <td>...</td>\n",
              "      <td>...</td>\n",
              "      <td>...</td>\n",
              "      <td>...</td>\n",
              "    </tr>\n",
              "    <tr>\n",
              "      <th>21449</th>\n",
              "      <td>1</td>\n",
              "      <td>0.0</td>\n",
              "      <td>0.067512</td>\n",
              "      <td>0.240594</td>\n",
              "      <td>0.089736</td>\n",
              "      <td>0.248571</td>\n",
              "      <td>19.567979</td>\n",
              "      <td>0.505892</td>\n",
              "      <td>3.135450</td>\n",
              "      <td>1.276097</td>\n",
              "      <td>0.000000</td>\n",
              "      <td>0.000000</td>\n",
              "      <td>0.102140</td>\n",
              "      <td>2.991238</td>\n",
              "      <td>1.804871</td>\n",
              "    </tr>\n",
              "    <tr>\n",
              "      <th>21450</th>\n",
              "      <td>1</td>\n",
              "      <td>0.0</td>\n",
              "      <td>0.000000</td>\n",
              "      <td>0.000000</td>\n",
              "      <td>0.000000</td>\n",
              "      <td>0.000000</td>\n",
              "      <td>20.000000</td>\n",
              "      <td>0.000000</td>\n",
              "      <td>6.956498</td>\n",
              "      <td>0.075370</td>\n",
              "      <td>0.000000</td>\n",
              "      <td>0.000000</td>\n",
              "      <td>0.000000</td>\n",
              "      <td>3.111899</td>\n",
              "      <td>1.388765</td>\n",
              "    </tr>\n",
              "    <tr>\n",
              "      <th>21451</th>\n",
              "      <td>1</td>\n",
              "      <td>0.0</td>\n",
              "      <td>0.012231</td>\n",
              "      <td>0.002700</td>\n",
              "      <td>0.000718</td>\n",
              "      <td>0.002279</td>\n",
              "      <td>19.985560</td>\n",
              "      <td>0.005262</td>\n",
              "      <td>0.919238</td>\n",
              "      <td>0.346642</td>\n",
              "      <td>0.000000</td>\n",
              "      <td>0.000000</td>\n",
              "      <td>0.023107</td>\n",
              "      <td>1.753066</td>\n",
              "      <td>1.754857</td>\n",
              "    </tr>\n",
              "    <tr>\n",
              "      <th>21452</th>\n",
              "      <td>1</td>\n",
              "      <td>0.0</td>\n",
              "      <td>0.000000</td>\n",
              "      <td>0.000000</td>\n",
              "      <td>0.000000</td>\n",
              "      <td>0.000000</td>\n",
              "      <td>20.000000</td>\n",
              "      <td>0.000000</td>\n",
              "      <td>3.080441</td>\n",
              "      <td>0.194396</td>\n",
              "      <td>0.000383</td>\n",
              "      <td>0.021752</td>\n",
              "      <td>0.000000</td>\n",
              "      <td>5.994523</td>\n",
              "      <td>6.041856</td>\n",
              "    </tr>\n",
              "    <tr>\n",
              "      <th>21453</th>\n",
              "      <td>1</td>\n",
              "      <td>0.0</td>\n",
              "      <td>0.000808</td>\n",
              "      <td>0.000000</td>\n",
              "      <td>0.080402</td>\n",
              "      <td>0.010369</td>\n",
              "      <td>19.951068</td>\n",
              "      <td>0.174858</td>\n",
              "      <td>3.794929</td>\n",
              "      <td>0.316915</td>\n",
              "      <td>0.000000</td>\n",
              "      <td>0.000000</td>\n",
              "      <td>0.000000</td>\n",
              "      <td>15.665291</td>\n",
              "      <td>2.446093</td>\n",
              "    </tr>\n",
              "  </tbody>\n",
              "</table>\n",
              "<p>20861 rows × 15 columns</p>\n",
              "</div>"
            ],
            "text/plain": [
              "       urban_or_rural  ghsl_water_surface  ...  dist_to_capital  dist_to_shoreline\n",
              "0                   1                 0.0  ...         2.937765           8.694712\n",
              "1                   1                 0.0  ...         2.117613           3.809437\n",
              "2                   1                 0.0  ...         6.772857           1.919301\n",
              "3                   1                 0.0  ...         3.850256           6.934276\n",
              "5                   0                 0.0  ...         0.102237           5.512326\n",
              "...               ...                 ...  ...              ...                ...\n",
              "21449               1                 0.0  ...         2.991238           1.804871\n",
              "21450               1                 0.0  ...         3.111899           1.388765\n",
              "21451               1                 0.0  ...         1.753066           1.754857\n",
              "21452               1                 0.0  ...         5.994523           6.041856\n",
              "21453               1                 0.0  ...        15.665291           2.446093\n",
              "\n",
              "[20861 rows x 15 columns]"
            ]
          },
          "metadata": {
            "tags": []
          },
          "execution_count": 28
        }
      ]
    },
    {
      "cell_type": "code",
      "metadata": {
        "id": "pwB-e4gxt-Lk"
      },
      "source": [
        "X_val=normalize(X_val_1)"
      ],
      "execution_count": 29,
      "outputs": []
    },
    {
      "cell_type": "code",
      "metadata": {
        "id": "O3z3v6YwuD-t"
      },
      "source": [
        "Test=normalize(Test)"
      ],
      "execution_count": 30,
      "outputs": []
    },
    {
      "cell_type": "code",
      "metadata": {
        "id": "XXuHUaUpukYL"
      },
      "source": [
        "# # define the model\n",
        "# def baseline():\n",
        "#     # create model\n",
        "#     model = Sequential()\n",
        "#     # add one fully connected layer\n",
        "#     model.add(Dense(13, input_dim=X_train.shape[1], activation='relu'))\n",
        "#     # add a fully connected layer for the output\n",
        "#     model.add(Dense(1))\n",
        "#     # Compile model\n",
        "#     model.compile(loss='mean_squared_error', optimizer='adam',metrics=[metrics.mse])\n",
        "    \n",
        "#     return model"
      ],
      "execution_count": 40,
      "outputs": []
    },
    {
      "cell_type": "code",
      "metadata": {
        "id": "Etunl1Covyg4"
      },
      "source": [
        "# estimator = KerasRegressor(build_fn=baseline, epochs=20, batch_size=5, verbose=1)"
      ],
      "execution_count": 41,
      "outputs": []
    },
    {
      "cell_type": "code",
      "metadata": {
        "id": "qsGO5fZ6v0rJ"
      },
      "source": [
        "# baseline().summary()"
      ],
      "execution_count": 42,
      "outputs": []
    },
    {
      "cell_type": "code",
      "metadata": {
        "id": "yHR0UyR3wK6a"
      },
      "source": [
        "# history = estimator.fit(X_train, y_train)"
      ],
      "execution_count": 43,
      "outputs": []
    },
    {
      "cell_type": "code",
      "metadata": {
        "id": "BjQ1zovTBCuf"
      },
      "source": [
        "# prediction = estimator.predict(X_val)"
      ],
      "execution_count": 44,
      "outputs": []
    },
    {
      "cell_type": "code",
      "metadata": {
        "id": "mbq_dIzRBe0X"
      },
      "source": [
        "# from sklearn.metrics import mean_squared_error"
      ],
      "execution_count": 45,
      "outputs": []
    },
    {
      "cell_type": "code",
      "metadata": {
        "id": "4bzDfy7TBTMZ"
      },
      "source": [
        "# mean_squared_error(y_val, prediction)"
      ],
      "execution_count": 46,
      "outputs": []
    },
    {
      "cell_type": "code",
      "metadata": {
        "id": "93lrsG5cBstJ"
      },
      "source": [
        "# prediction = estimator.predict(Test)"
      ],
      "execution_count": 47,
      "outputs": []
    },
    {
      "cell_type": "code",
      "metadata": {
        "id": "ZJs8I7hnBzfr"
      },
      "source": [
        "# submission=pd.read_csv(\"/content/SampleSubmission.csv\")\n",
        "# submission.head()"
      ],
      "execution_count": 48,
      "outputs": []
    },
    {
      "cell_type": "code",
      "metadata": {
        "id": "4RRujx0mCCxm"
      },
      "source": [
        "# submission['Target']=prediction = estimator.predict(Test)"
      ],
      "execution_count": 49,
      "outputs": []
    },
    {
      "cell_type": "code",
      "metadata": {
        "id": "b53Z7C_CCL96"
      },
      "source": [
        "# submission.head(5)"
      ],
      "execution_count": 50,
      "outputs": []
    },
    {
      "cell_type": "code",
      "metadata": {
        "id": "rerMsjIMCcMk"
      },
      "source": [
        "# submission.to_csv(\"Zindi2.csv\",index=False)"
      ],
      "execution_count": 51,
      "outputs": []
    },
    {
      "cell_type": "markdown",
      "metadata": {
        "id": "Cmtz32tEk2pT"
      },
      "source": [
        "Model building"
      ]
    },
    {
      "cell_type": "code",
      "metadata": {
        "colab": {
          "base_uri": "https://localhost:8080/"
        },
        "id": "R2VO43aJxTOL",
        "outputId": "d15b033b-68a6-4829-b943-acbcb4e62d6b"
      },
      "source": [
        "from xgboost import XGBRegressor\n",
        "\n",
        "my_model = XGBRegressor()\n",
        "# Add silent=True to avoid printing out updates with each cycle\n",
        "my_model.fit(X_train, y_train, verbose=False)\n",
        "\n"
      ],
      "execution_count": 54,
      "outputs": [
        {
          "output_type": "stream",
          "text": [
            "[21:21:31] WARNING: /workspace/src/objective/regression_obj.cu:152: reg:linear is now deprecated in favor of reg:squarederror.\n"
          ],
          "name": "stdout"
        },
        {
          "output_type": "execute_result",
          "data": {
            "text/plain": [
              "XGBRegressor(base_score=0.5, booster='gbtree', colsample_bylevel=1,\n",
              "             colsample_bynode=1, colsample_bytree=1, gamma=0,\n",
              "             importance_type='gain', learning_rate=0.1, max_delta_step=0,\n",
              "             max_depth=3, min_child_weight=1, missing=None, n_estimators=100,\n",
              "             n_jobs=1, nthread=None, objective='reg:linear', random_state=0,\n",
              "             reg_alpha=0, reg_lambda=1, scale_pos_weight=1, seed=None,\n",
              "             silent=None, subsample=1, verbosity=1)"
            ]
          },
          "metadata": {
            "tags": []
          },
          "execution_count": 54
        }
      ]
    },
    {
      "cell_type": "code",
      "metadata": {
        "id": "nP6E0CY-xg8V"
      },
      "source": [
        "# make predictions\n",
        "predictions = my_model.predict(X_val)\n",
        "\n",
        "\n"
      ],
      "execution_count": 55,
      "outputs": []
    },
    {
      "cell_type": "code",
      "metadata": {
        "colab": {
          "base_uri": "https://localhost:8080/"
        },
        "id": "TXLY_fJYwgVU",
        "outputId": "b677cbec-359a-4ff7-fb75-e9497d68ff48"
      },
      "source": [
        "predictions"
      ],
      "execution_count": 56,
      "outputs": [
        {
          "output_type": "execute_result",
          "data": {
            "text/plain": [
              "array([0.534668  , 0.22236732, 0.24015382, 0.19637096, 0.59565955,\n",
              "       0.40890968, 0.23533887, 0.16450664, 0.16265827, 0.17457393,\n",
              "       0.4454319 , 0.17482916, 0.39138097, 0.75501156, 0.7316047 ,\n",
              "       0.5774448 , 0.1335795 , 0.7195407 , 0.52093625, 0.58953565,\n",
              "       0.19118154, 0.24803138, 0.17991251, 0.74634004, 0.17748421,\n",
              "       0.1329984 , 0.45213997, 0.38982502, 0.23969361, 0.5599706 ,\n",
              "       0.44441375, 0.73679674, 0.3910555 , 0.7076104 , 0.19427264,\n",
              "       0.24358886, 0.38421032, 0.5476099 , 0.16634664, 0.14844128,\n",
              "       0.7355213 , 0.18227544, 0.22510901, 0.16746   , 0.18096253,\n",
              "       0.21875018, 0.21337157, 0.21370563, 0.14119902, 0.31403637,\n",
              "       0.22415239, 0.34197325, 0.6169809 , 0.1544793 , 0.13094962,\n",
              "       0.18243966, 0.75501156, 0.223311  , 0.59866476, 0.14368   ,\n",
              "       0.16579664, 0.24022964, 0.6250006 , 0.47970423, 0.7453054 ,\n",
              "       0.12517938, 0.22466367, 0.21928632, 0.19525072, 0.765519  ,\n",
              "       0.5474045 , 0.22881237, 0.3276687 , 0.18008253, 0.75733966,\n",
              "       0.15529564, 0.14522567, 0.5925276 , 0.19555119, 0.60133064,\n",
              "       0.64874375, 0.1616616 , 0.75599027, 0.22771785, 0.7496568 ,\n",
              "       0.22449231, 0.13511536, 0.76631004, 0.19699895, 0.18065822,\n",
              "       0.6079691 , 0.18774998, 0.16132241, 0.6381064 , 0.16496769,\n",
              "       0.6190314 , 0.73612225, 0.75599027, 0.74529797, 0.2090235 ,\n",
              "       0.11206627, 0.78973114, 0.16454482, 0.2998842 , 0.34260917,\n",
              "       0.23077244, 0.74653584, 0.26213616, 0.73773277, 0.7837729 ,\n",
              "       0.22430319, 0.3466121 , 0.1754255 , 0.22886017, 0.16139159,\n",
              "       0.76871616, 0.21084633, 0.19689685, 0.16985133, 0.75733966,\n",
              "       0.15898678, 0.42362157, 0.17552799, 0.20691255, 0.20122117,\n",
              "       0.13628387, 0.1896657 , 0.21754882, 0.23340264, 0.148639  ,\n",
              "       0.40890968, 0.18644819, 0.41958547, 0.1437133 , 0.20023999,\n",
              "       0.7954752 , 0.25998682, 0.16421846, 0.76631004, 0.21630684,\n",
              "       0.17113551, 0.2206231 , 0.15166557, 0.28948218, 0.7173396 ,\n",
              "       0.7576269 , 0.7462549 , 0.61240804, 0.76631004, 0.179005  ,\n",
              "       0.5474045 , 0.78178775, 0.7837729 , 0.21552774, 0.15251651,\n",
              "       0.3935045 , 0.16855934, 0.12907457, 0.20708716, 0.21927738,\n",
              "       0.7570807 , 0.16262868, 0.765519  , 0.75733966, 0.18497083,\n",
              "       0.21109885, 0.23655796, 0.1784291 , 0.21272787, 0.74990034,\n",
              "       0.5347177 , 0.21923646, 0.75446653, 0.76014817, 0.7208176 ,\n",
              "       0.73984706, 0.65382355, 0.515555  , 0.2742607 , 0.29748186,\n",
              "       0.11558199, 0.20442256, 0.16507626, 0.7417495 , 0.22583485,\n",
              "       0.78717476, 0.7837729 , 0.1889751 , 0.38075367, 0.22045875,\n",
              "       0.753469  , 0.74706435, 0.21623504, 0.2963308 , 0.74653584,\n",
              "       0.58190733, 0.7781291 , 0.16262868, 0.20935169, 0.17599398,\n",
              "       0.28893495, 0.7489684 , 0.1718576 , 0.7602074 , 0.20982659,\n",
              "       0.42362157, 0.48422578, 0.16990033, 0.20533106, 0.75599027,\n",
              "       0.75599027, 0.1852633 , 0.15562916, 0.19608355, 0.16633675,\n",
              "       0.7699485 , 0.16457304, 0.16636601, 0.17962357, 0.16590023,\n",
              "       0.15483525, 0.21453565, 0.6494332 , 0.20115098, 0.41664356,\n",
              "       0.3821314 , 0.741407  , 0.3085268 , 0.2510468 , 0.5476099 ,\n",
              "       0.40495792, 0.75446653, 0.10945839, 0.20180482, 0.59326625,\n",
              "       0.13176021, 0.75600904, 0.17905307, 0.20425871, 0.6687686 ,\n",
              "       0.18170115, 0.13645336, 0.73773277, 0.1121605 , 0.52093625,\n",
              "       0.20642236, 0.7350167 , 0.4998369 , 0.17688265, 0.21528193,\n",
              "       0.15562916, 0.7786431 , 0.155195  , 0.16025311, 0.44441375,\n",
              "       0.13586691, 0.15720928, 0.27326015, 0.15924996, 0.41122007,\n",
              "       0.75599027, 0.41942266, 0.22161692, 0.23134494, 0.18714315,\n",
              "       0.20316017, 0.203457  , 0.2951225 , 0.22971627, 0.2432864 ,\n",
              "       0.3038389 , 0.12604186, 0.16134334, 0.14849249, 0.14809525,\n",
              "       0.607029  , 0.6117042 , 0.22559556, 0.12085271, 0.39747852,\n",
              "       0.18878755, 0.77899396, 0.23776346, 0.2014474 , 0.29746443,\n",
              "       0.19480029, 0.20948568, 0.3276687 , 0.20707244, 0.765519  ,\n",
              "       0.57753307, 0.6135605 , 0.5963122 , 0.1666854 , 0.23923829,\n",
              "       0.73525786, 0.21687955, 0.24565083, 0.25929266, 0.26814848,\n",
              "       0.654513  , 0.3668282 , 0.6023003 , 0.58190733, 0.76871616,\n",
              "       0.15259477, 0.13988182, 0.22414625, 0.2144978 , 0.34625393,\n",
              "       0.12010494, 0.58190733, 0.56365067, 0.44928217, 0.74990034,\n",
              "       0.12704462, 0.2445598 , 0.4888521 , 0.20326397, 0.6232935 ,\n",
              "       0.18957642, 0.251378  , 0.29055884, 0.2103655 , 0.76631004,\n",
              "       0.4353194 , 0.22525889, 0.1544793 , 0.25493303, 0.1444101 ,\n",
              "       0.17536911, 0.15680835, 0.16240177, 0.20130423, 0.77899396,\n",
              "       0.21453565, 0.23533887, 0.25515193, 0.7432147 , 0.74529797,\n",
              "       0.24028781, 0.18721041, 0.21026915, 0.1991373 , 0.19931266,\n",
              "       0.38483655, 0.19783378, 0.21776837, 0.735457  , 0.16737625,\n",
              "       0.67350763, 0.14131519, 0.19490284, 0.3855512 , 0.2031256 ,\n",
              "       0.25652933, 0.19886604, 0.4353194 , 0.765519  , 0.16861948,\n",
              "       0.78717476, 0.7487868 , 0.73612225, 0.16710052, 0.22043487,\n",
              "       0.18754286, 0.23438692, 0.16602957, 0.20948285, 0.15685308,\n",
              "       0.24982518, 0.51374656, 0.7691608 , 0.49582723, 0.23655796,\n",
              "       0.29125535, 0.18328735, 0.25575972, 0.18699601, 0.49872133,\n",
              "       0.22453141, 0.4353194 , 0.76014817, 0.6876292 , 0.61454463,\n",
              "       0.42290586, 0.24359602, 0.5925276 , 0.7271578 , 0.22768286,\n",
              "       0.21757817, 0.1225403 , 0.53542924, 0.42290586, 0.73773277,\n",
              "       0.7675803 , 0.27153933, 0.16525742, 0.179248  , 0.19827822,\n",
              "       0.75599027, 0.579944  , 0.23110235, 0.1932173 , 0.7440881 ,\n",
              "       0.753469  , 0.5774448 , 0.21027812, 0.4454319 , 0.2108421 ,\n",
              "       0.73773277, 0.18008253, 0.1445426 , 0.17040038, 0.42362157,\n",
              "       0.20684543, 0.16923931, 0.35270005, 0.74653584, 0.20462006,\n",
              "       0.12895629, 0.21955124, 0.13242415, 0.20704776, 0.2078102 ,\n",
              "       0.47513613, 0.76916784, 0.21874675, 0.10752094, 0.3769434 ,\n",
              "       0.15054712, 0.13095015, 0.45213997, 0.17076579, 0.32656148,\n",
              "       0.21678948, 0.23186448, 0.17777291, 0.20388353, 0.7573861 ,\n",
              "       0.29828504, 0.17886618, 0.22194687, 0.15988255, 0.193652  ,\n",
              "       0.25725433, 0.13645336, 0.13594401, 0.17313159, 0.3985113 ,\n",
              "       0.10871798, 0.21602857, 0.13021243, 0.765519  , 0.18274212,\n",
              "       0.1733261 , 0.20181087, 0.53547686, 0.5407224 , 0.21184546,\n",
              "       0.1345276 , 0.2156538 , 0.12404811, 0.58921355, 0.19931266,\n",
              "       0.7688613 , 0.4948091 , 0.26034164, 0.24069417, 0.402552  ,\n",
              "       0.29985088, 0.60473996, 0.3466121 , 0.5883879 , 0.20582718,\n",
              "       0.13687852, 0.7615514 , 0.2161521 , 0.17492694, 0.1986722 ,\n",
              "       0.21896249, 0.16902861, 0.17460987, 0.5098763 , 0.7770915 ,\n",
              "       0.735457  , 0.76173764, 0.17471483, 0.21282855, 0.17492235,\n",
              "       0.12680188, 0.19914567, 0.5985082 , 0.39022163, 0.18377188,\n",
              "       0.17567414, 0.15887201, 0.45213997, 0.52093625, 0.6135605 ,\n",
              "       0.20714125, 0.18246123, 0.2050651 , 0.49064222, 0.30856866,\n",
              "       0.16839468, 0.6797135 , 0.16604519, 0.4454319 , 0.16103703,\n",
              "       0.42193788, 0.24504307, 0.19807711, 0.17974243, 0.1978893 ,\n",
              "       0.15028366, 0.76487947, 0.16663367, 0.18322876, 0.23004195,\n",
              "       0.7786431 , 0.19204286, 0.74274004, 0.2968366 , 0.45213997,\n",
              "       0.22937366, 0.77899396, 0.7576269 , 0.6907642 , 0.21336049,\n",
              "       0.71024126, 0.30447736, 0.18911004, 0.13962993, 0.76631004,\n",
              "       0.50429577, 0.7487868 , 0.24073026, 0.7817948 , 0.6056502 ,\n",
              "       0.23527345, 0.4454319 , 0.17158458, 0.21088144, 0.2187419 ,\n",
              "       0.15836775, 0.24400747, 0.77386415, 0.42119807, 0.3162494 ,\n",
              "       0.29028934, 0.23394477, 0.6462995 , 0.20295882, 0.3855512 ,\n",
              "       0.23355135, 0.5102619 , 0.1883043 , 0.7410339 , 0.15958333,\n",
              "       0.18290195, 0.19850329, 0.13866973, 0.53888345, 0.3769434 ,\n",
              "       0.45213997, 0.44549346, 0.25552487, 0.1890817 , 0.22055468,\n",
              "       0.21178219, 0.20743412, 0.25443733, 0.75513905, 0.40438184,\n",
              "       0.17468345, 0.19291484, 0.21407446, 0.51404876, 0.21722925,\n",
              "       0.1483649 , 0.19715905, 0.7658863 , 0.26279795, 0.16629207,\n",
              "       0.2382516 , 0.40362117, 0.77386415, 0.735457  , 0.23975629,\n",
              "       0.1990431 , 0.15998328, 0.75492793], dtype=float32)"
            ]
          },
          "metadata": {
            "tags": []
          },
          "execution_count": 56
        }
      ]
    },
    {
      "cell_type": "code",
      "metadata": {
        "colab": {
          "base_uri": "https://localhost:8080/"
        },
        "id": "6ftATHQ-xz8v",
        "outputId": "07e92294-dd2a-49b9-ed43-b994c38a5b89"
      },
      "source": [
        "from sklearn.metrics import mean_absolute_error\n",
        "print(\"Mean Absolute Error : \" + str(mean_absolute_error(predictions, y_val)))"
      ],
      "execution_count": 58,
      "outputs": [
        {
          "output_type": "stream",
          "text": [
            "Mean Absolute Error : 0.08552723575216409\n"
          ],
          "name": "stdout"
        }
      ]
    },
    {
      "cell_type": "code",
      "metadata": {
        "colab": {
          "base_uri": "https://localhost:8080/"
        },
        "id": "NwMdqgqL0ip_",
        "outputId": "3a1e50aa-9e5f-41a4-fa06-47ba2b2d3661"
      },
      "source": [
        "my_model = XGBRegressor(n_estimators=1000)\n",
        "my_model.fit(X_train, y_train, early_stopping_rounds=5, \n",
        "             eval_set=[(X_val, y_val)], verbose=False)"
      ],
      "execution_count": 35,
      "outputs": [
        {
          "output_type": "stream",
          "text": [
            "[21:10:31] WARNING: /workspace/src/objective/regression_obj.cu:152: reg:linear is now deprecated in favor of reg:squarederror.\n"
          ],
          "name": "stdout"
        },
        {
          "output_type": "execute_result",
          "data": {
            "text/plain": [
              "XGBRegressor(base_score=0.5, booster='gbtree', colsample_bylevel=1,\n",
              "             colsample_bynode=1, colsample_bytree=1, gamma=0,\n",
              "             importance_type='gain', learning_rate=0.1, max_delta_step=0,\n",
              "             max_depth=3, min_child_weight=1, missing=None, n_estimators=1000,\n",
              "             n_jobs=1, nthread=None, objective='reg:linear', random_state=0,\n",
              "             reg_alpha=0, reg_lambda=1, scale_pos_weight=1, seed=None,\n",
              "             silent=None, subsample=1, verbosity=1)"
            ]
          },
          "metadata": {
            "tags": []
          },
          "execution_count": 35
        }
      ]
    },
    {
      "cell_type": "code",
      "metadata": {
        "colab": {
          "base_uri": "https://localhost:8080/"
        },
        "id": "XQ551LA01nhj",
        "outputId": "32ba8c6f-44ed-47b6-f417-4c51dacb7b3a"
      },
      "source": [
        "\n",
        "my_model = XGBRegressor(n_estimators=1000, learning_rate=0.05)\n",
        "my_model.fit(X_train, y_train, early_stopping_rounds=5, \n",
        "             eval_set=[(X_val, y_val)], verbose=False)\n",
        "\n"
      ],
      "execution_count": 36,
      "outputs": [
        {
          "output_type": "stream",
          "text": [
            "[21:10:34] WARNING: /workspace/src/objective/regression_obj.cu:152: reg:linear is now deprecated in favor of reg:squarederror.\n"
          ],
          "name": "stdout"
        },
        {
          "output_type": "execute_result",
          "data": {
            "text/plain": [
              "XGBRegressor(base_score=0.5, booster='gbtree', colsample_bylevel=1,\n",
              "             colsample_bynode=1, colsample_bytree=1, gamma=0,\n",
              "             importance_type='gain', learning_rate=0.05, max_delta_step=0,\n",
              "             max_depth=3, min_child_weight=1, missing=None, n_estimators=1000,\n",
              "             n_jobs=1, nthread=None, objective='reg:linear', random_state=0,\n",
              "             reg_alpha=0, reg_lambda=1, scale_pos_weight=1, seed=None,\n",
              "             silent=None, subsample=1, verbosity=1)"
            ]
          },
          "metadata": {
            "tags": []
          },
          "execution_count": 36
        }
      ]
    },
    {
      "cell_type": "code",
      "metadata": {
        "id": "Lak7iHXk1_Tg"
      },
      "source": [
        "# make predictions\n",
        "predictions = my_model.predict(X_val)"
      ],
      "execution_count": 37,
      "outputs": []
    },
    {
      "cell_type": "code",
      "metadata": {
        "colab": {
          "base_uri": "https://localhost:8080/"
        },
        "id": "NGz-pPRL2RLg",
        "outputId": "8b1e6b3f-f1f4-45c5-9c71-cd03c8a26d90"
      },
      "source": [
        "predictions"
      ],
      "execution_count": 38,
      "outputs": [
        {
          "output_type": "execute_result",
          "data": {
            "text/plain": [
              "array([0.5509291 , 0.24693146, 0.25871956, 0.23781225, 0.6034306 ,\n",
              "       0.44191223, 0.25784612, 0.22206378, 0.21805951, 0.2242209 ,\n",
              "       0.44545642, 0.20968431, 0.43085644, 0.6464954 , 0.6449618 ,\n",
              "       0.5580857 , 0.19531268, 0.6421013 , 0.5137094 , 0.6034306 ,\n",
              "       0.23844612, 0.2566892 , 0.22203746, 0.6421013 , 0.22016597,\n",
              "       0.18888113, 0.45015594, 0.4714859 , 0.25784612, 0.5530993 ,\n",
              "       0.45013762, 0.64879394, 0.43588412, 0.64879394, 0.23416683,\n",
              "       0.25568897, 0.43588412, 0.5393298 , 0.22700283, 0.18250737,\n",
              "       0.6599381 , 0.22016597, 0.261247  , 0.21123862, 0.23006251,\n",
              "       0.24477434, 0.24989411, 0.23307532, 0.21812686, 0.3979944 ,\n",
              "       0.24693146, 0.35246086, 0.6003949 , 0.21689653, 0.17976525,\n",
              "       0.23006251, 0.6464954 , 0.24693146, 0.59037113, 0.18798119,\n",
              "       0.2242209 , 0.25589156, 0.6004638 , 0.48993927, 0.6421013 ,\n",
              "       0.16800955, 0.24070102, 0.2496076 , 0.24079785, 0.6599381 ,\n",
              "       0.5393298 , 0.24740756, 0.3646083 , 0.236289  , 0.6464954 ,\n",
              "       0.18272564, 0.18435538, 0.6034306 , 0.2504254 , 0.58235025,\n",
              "       0.59832203, 0.2242209 , 0.6464954 , 0.23839587, 0.6449618 ,\n",
              "       0.23339123, 0.19103825, 0.64750004, 0.24163282, 0.24358922,\n",
              "       0.59817165, 0.21072558, 0.20009917, 0.5803894 , 0.21779045,\n",
              "       0.58235025, 0.6499918 , 0.6464954 , 0.6520919 , 0.24693146,\n",
              "       0.17080703, 0.64745355, 0.2242209 , 0.2955233 , 0.4260698 ,\n",
              "       0.261247  , 0.6464954 , 0.25122046, 0.6421013 , 0.6499918 ,\n",
              "       0.24693146, 0.43219137, 0.23836663, 0.24693146, 0.22299534,\n",
              "       0.6599381 , 0.2820254 , 0.25113207, 0.22744471, 0.6464954 ,\n",
              "       0.20607138, 0.47602585, 0.22105885, 0.261247  , 0.22563183,\n",
              "       0.20522654, 0.21141395, 0.25113207, 0.261247  , 0.18335146,\n",
              "       0.44191223, 0.2187945 , 0.4714859 , 0.18536264, 0.23458284,\n",
              "       0.6421013 , 0.2993558 , 0.22203746, 0.64750004, 0.2451058 ,\n",
              "       0.19840795, 0.24662906, 0.20162243, 0.27900136, 0.63884765,\n",
              "       0.6464954 , 0.6449618 , 0.59513986, 0.64750004, 0.23168182,\n",
              "       0.5393298 , 0.64750004, 0.6499918 , 0.23244947, 0.17863142,\n",
              "       0.43085644, 0.20432255, 0.18808132, 0.25345528, 0.2350575 ,\n",
              "       0.6449618 , 0.21496418, 0.6599381 , 0.6464954 , 0.22740832,\n",
              "       0.25047225, 0.25470012, 0.22568142, 0.25047225, 0.6421013 ,\n",
              "       0.50758415, 0.2485888 , 0.6464954 , 0.6464954 , 0.6449618 ,\n",
              "       0.6449618 , 0.6004929 , 0.51705176, 0.2688756 , 0.27027953,\n",
              "       0.17356008, 0.23758009, 0.23145226, 0.6421013 , 0.24566504,\n",
              "       0.6499918 , 0.6499918 , 0.23734736, 0.3996751 , 0.2609451 ,\n",
              "       0.64879394, 0.64879394, 0.24562645, 0.27753854, 0.6464954 ,\n",
              "       0.56381536, 0.6599381 , 0.21496418, 0.25760275, 0.23168182,\n",
              "       0.28744137, 0.64879394, 0.23376435, 0.6599381 , 0.24528429,\n",
              "       0.47602585, 0.49420223, 0.22451913, 0.24477434, 0.6464954 ,\n",
              "       0.6464954 , 0.23080489, 0.22133094, 0.25090247, 0.2352876 ,\n",
              "       0.6599381 , 0.21565711, 0.21689978, 0.21841979, 0.2205962 ,\n",
              "       0.22921768, 0.25169757, 0.59832203, 0.23102528, 0.46335298,\n",
              "       0.3817522 , 0.6464954 , 0.2957228 , 0.25083536, 0.5393298 ,\n",
              "       0.4595754 , 0.6464954 , 0.17000479, 0.2589238 , 0.5988214 ,\n",
              "       0.17729065, 0.64750004, 0.2352876 , 0.24346936, 0.6405616 ,\n",
              "       0.22221816, 0.19103825, 0.6421013 , 0.1664863 , 0.5137094 ,\n",
              "       0.24642313, 0.6421013 , 0.49078032, 0.21745989, 0.24528429,\n",
              "       0.22133094, 0.6499918 , 0.21510816, 0.21565711, 0.45013762,\n",
              "       0.17993134, 0.23145226, 0.2771189 , 0.1949138 , 0.44228333,\n",
              "       0.6464954 , 0.41591346, 0.23917776, 0.24566504, 0.22586584,\n",
              "       0.25345528, 0.24346936, 0.2955233 , 0.2451058 , 0.25568897,\n",
              "       0.3179945 , 0.20522654, 0.22051421, 0.17919964, 0.1974482 ,\n",
              "       0.59513986, 0.59513986, 0.2496076 , 0.17549598, 0.39459798,\n",
              "       0.26953018, 0.64750004, 0.25122046, 0.24295494, 0.2890253 ,\n",
              "       0.24242726, 0.22983208, 0.3646083 , 0.2292493 , 0.6599381 ,\n",
              "       0.5510342 , 0.59817165, 0.6034306 , 0.2189717 , 0.25294995,\n",
              "       0.6520919 , 0.25254744, 0.25568897, 0.2601593 , 0.3308249 ,\n",
              "       0.6004929 , 0.41066778, 0.5734409 , 0.56016105, 0.6599381 ,\n",
              "       0.21779045, 0.20522654, 0.24562645, 0.23623875, 0.3530392 ,\n",
              "       0.1664863 , 0.56016105, 0.5479739 , 0.45015594, 0.6421013 ,\n",
              "       0.17380685, 0.25817275, 0.50916946, 0.25790465, 0.599534  ,\n",
              "       0.22921768, 0.2623148 , 0.2955233 , 0.23389813, 0.64750004,\n",
              "       0.47602585, 0.24693146, 0.21689653, 0.25482714, 0.1807805 ,\n",
              "       0.22921768, 0.21510816, 0.19195631, 0.25113207, 0.64750004,\n",
              "       0.25169757, 0.25784612, 0.26543254, 0.6449618 , 0.6520919 ,\n",
              "       0.25568897, 0.23191595, 0.24693146, 0.23728138, 0.24029842,\n",
              "       0.43588412, 0.2323474 , 0.261247  , 0.6499918 , 0.18481708,\n",
              "       0.6405616 , 0.19382021, 0.23781225, 0.37021464, 0.24602288,\n",
              "       0.262672  , 0.2323474 , 0.47602585, 0.6599381 , 0.18927947,\n",
              "       0.6499918 , 0.64750004, 0.6499918 , 0.21650669, 0.23660421,\n",
              "       0.2396507 , 0.25294995, 0.22700283, 0.2526294 , 0.18335146,\n",
              "       0.33354026, 0.51705176, 0.64750004, 0.5137094 , 0.25470012,\n",
              "       0.27027953, 0.22105989, 0.26474905, 0.20946604, 0.50916946,\n",
              "       0.2472629 , 0.47602585, 0.6464954 , 0.6405616 , 0.60506773,\n",
              "       0.46718672, 0.25282836, 0.6034306 , 0.6499918 , 0.24566504,\n",
              "       0.23569009, 0.18075696, 0.54039705, 0.46718672, 0.6421013 ,\n",
              "       0.6449618 , 0.32533562, 0.22769442, 0.22379068, 0.24835014,\n",
              "       0.6464954 , 0.59228647, 0.24782217, 0.2380741 , 0.6421013 ,\n",
              "       0.64879394, 0.5580857 , 0.2567976 , 0.4465463 , 0.24477434,\n",
              "       0.6421013 , 0.236289  , 0.22921768, 0.2030561 , 0.47602585,\n",
              "       0.24346936, 0.22700283, 0.3533411 , 0.64879394, 0.24477434,\n",
              "       0.20522654, 0.25345528, 0.16716304, 0.24404678, 0.24562645,\n",
              "       0.49085894, 0.6449618 , 0.26015428, 0.16800112, 0.43588412,\n",
              "       0.21339571, 0.17884749, 0.45015594, 0.2389316 , 0.30554727,\n",
              "       0.2526294 , 0.24477434, 0.22919813, 0.21120757, 0.6499918 ,\n",
              "       0.29628432, 0.22203746, 0.2304343 , 0.18335146, 0.2331824 ,\n",
              "       0.2606324 , 0.19103825, 0.2160517 , 0.21441227, 0.46363166,\n",
              "       0.1721619 , 0.20758057, 0.16448262, 0.6599381 , 0.23006251,\n",
              "       0.2242209 , 0.25113207, 0.5509291 , 0.5393298 , 0.23218569,\n",
              "       0.17729065, 0.24960819, 0.17080703, 0.5803564 , 0.24029842,\n",
              "       0.6499918 , 0.5137094 , 0.26844132, 0.24674022, 0.4714859 ,\n",
              "       0.2997475 , 0.5847062 , 0.43219137, 0.6034306 , 0.24693146,\n",
              "       0.18075696, 0.6599381 , 0.24486741, 0.21343446, 0.24295494,\n",
              "       0.24693146, 0.2388022 , 0.22853926, 0.5017559 , 0.64750004,\n",
              "       0.6499918 , 0.6599381 , 0.2650082 , 0.24303389, 0.22489238,\n",
              "       0.17739105, 0.21141395, 0.5847062 , 0.4595754 , 0.24149486,\n",
              "       0.23168182, 0.22051421, 0.45015594, 0.5137094 , 0.60256577,\n",
              "       0.25790465, 0.27494222, 0.23648003, 0.49905732, 0.29954797,\n",
              "       0.2242209 , 0.6405616 , 0.2242209 , 0.45013762, 0.23588216,\n",
              "       0.46718672, 0.25568897, 0.25067335, 0.22809643, 0.23947355,\n",
              "       0.17280847, 0.6421013 , 0.22222161, 0.21802995, 0.24671426,\n",
              "       0.6499918 , 0.261247  , 0.6421013 , 0.35236633, 0.45015594,\n",
              "       0.24782217, 0.64750004, 0.6464954 , 0.6405616 , 0.2559982 ,\n",
              "       0.6449618 , 0.2955233 , 0.23302516, 0.1885128 , 0.64750004,\n",
              "       0.50916946, 0.6449618 , 0.25568897, 0.64750004, 0.59817165,\n",
              "       0.25568897, 0.45013762, 0.2193464 , 0.25790465, 0.24693146,\n",
              "       0.2265062 , 0.258628  , 0.64750004, 0.4555951 , 0.3979944 ,\n",
              "       0.29425234, 0.261247  , 0.60256577, 0.24468061, 0.37021464,\n",
              "       0.25264806, 0.518119  , 0.24839363, 0.64879394, 0.2242209 ,\n",
              "       0.20687127, 0.24602288, 0.15910721, 0.54527533, 0.43588412,\n",
              "       0.45015594, 0.4425941 , 0.2659305 , 0.22921768, 0.2493057 ,\n",
              "       0.24477434, 0.21911746, 0.27200806, 0.64750004, 0.47602585,\n",
              "       0.19746622, 0.2380741 , 0.23835024, 0.5137094 , 0.26364362,\n",
              "       0.21689653, 0.24295494, 0.6499918 , 0.26505092, 0.22211999,\n",
              "       0.24806485, 0.4248348 , 0.64750004, 0.6499918 , 0.25350606,\n",
              "       0.24477434, 0.18582606, 0.6464954 ], dtype=float32)"
            ]
          },
          "metadata": {
            "tags": []
          },
          "execution_count": 38
        }
      ]
    },
    {
      "cell_type": "code",
      "metadata": {
        "colab": {
          "base_uri": "https://localhost:8080/"
        },
        "id": "c35oA8FZ2bPS",
        "outputId": "afc26a08-0de4-4bdf-daed-b247b72d5bcd"
      },
      "source": [
        "from sklearn.metrics import mean_absolute_error\n",
        "print(\"Mean Absolute Error : \" + str(mean_absolute_error(predictions, y_val)))"
      ],
      "execution_count": 39,
      "outputs": [
        {
          "output_type": "stream",
          "text": [
            "Mean Absolute Error : 0.07529822214349709\n"
          ],
          "name": "stdout"
        }
      ]
    },
    {
      "cell_type": "code",
      "metadata": {
        "id": "-DHc3RvA7NqM"
      },
      "source": [
        "submission['Target']=my_model.predict(Test)"
      ],
      "execution_count": null,
      "outputs": []
    },
    {
      "cell_type": "code",
      "metadata": {
        "colab": {
          "base_uri": "https://localhost:8080/",
          "height": 206
        },
        "id": "j-3AJuWHIc05",
        "outputId": "c51097e2-d206-4243-e3bd-a129bbb31393"
      },
      "source": [
        "submission.head(5)"
      ],
      "execution_count": null,
      "outputs": [
        {
          "output_type": "execute_result",
          "data": {
            "text/html": [
              "<div>\n",
              "<style scoped>\n",
              "    .dataframe tbody tr th:only-of-type {\n",
              "        vertical-align: middle;\n",
              "    }\n",
              "\n",
              "    .dataframe tbody tr th {\n",
              "        vertical-align: top;\n",
              "    }\n",
              "\n",
              "    .dataframe thead th {\n",
              "        text-align: right;\n",
              "    }\n",
              "</style>\n",
              "<table border=\"1\" class=\"dataframe\">\n",
              "  <thead>\n",
              "    <tr style=\"text-align: right;\">\n",
              "      <th></th>\n",
              "      <th>ID</th>\n",
              "      <th>Target</th>\n",
              "    </tr>\n",
              "  </thead>\n",
              "  <tbody>\n",
              "    <tr>\n",
              "      <th>0</th>\n",
              "      <td>ID_AAcismbB</td>\n",
              "      <td>0.249722</td>\n",
              "    </tr>\n",
              "    <tr>\n",
              "      <th>1</th>\n",
              "      <td>ID_AAeBMsji</td>\n",
              "      <td>0.254857</td>\n",
              "    </tr>\n",
              "    <tr>\n",
              "      <th>2</th>\n",
              "      <td>ID_AAjFMjzy</td>\n",
              "      <td>0.579152</td>\n",
              "    </tr>\n",
              "    <tr>\n",
              "      <th>3</th>\n",
              "      <td>ID_AAmMOEEC</td>\n",
              "      <td>0.280792</td>\n",
              "    </tr>\n",
              "    <tr>\n",
              "      <th>4</th>\n",
              "      <td>ID_ABguzDxp</td>\n",
              "      <td>0.393514</td>\n",
              "    </tr>\n",
              "  </tbody>\n",
              "</table>\n",
              "</div>"
            ],
            "text/plain": [
              "            ID    Target\n",
              "0  ID_AAcismbB  0.249722\n",
              "1  ID_AAeBMsji  0.254857\n",
              "2  ID_AAjFMjzy  0.579152\n",
              "3  ID_AAmMOEEC  0.280792\n",
              "4  ID_ABguzDxp  0.393514"
            ]
          },
          "metadata": {
            "tags": []
          },
          "execution_count": 90
        }
      ]
    },
    {
      "cell_type": "code",
      "metadata": {
        "id": "ggwpFIkT7P0j"
      },
      "source": [
        "submission.to_csv(\"Zindi3.csv\",index=False)"
      ],
      "execution_count": null,
      "outputs": []
    },
    {
      "cell_type": "markdown",
      "metadata": {
        "id": "PSxqb0JElHAc"
      },
      "source": [
        "Model with regularizer (ElasticNet)"
      ]
    },
    {
      "cell_type": "markdown",
      "metadata": {
        "id": "po5KheXXkqV0"
      },
      "source": [
        "ElasticNet Model"
      ]
    },
    {
      "cell_type": "code",
      "metadata": {
        "id": "Nod-MbrJmkqg"
      },
      "source": [
        "import sklearn"
      ],
      "execution_count": 40,
      "outputs": []
    },
    {
      "cell_type": "code",
      "metadata": {
        "id": "H9NzSAimkvil"
      },
      "source": [
        "from sklearn.linear_model import Lasso, Ridge, LinearRegression , ElasticNet"
      ],
      "execution_count": 41,
      "outputs": []
    },
    {
      "cell_type": "code",
      "metadata": {
        "id": "ELb5sviOI0wP"
      },
      "source": [
        "from sklearn.model_selection import GridSearchCV , KFold"
      ],
      "execution_count": 42,
      "outputs": []
    },
    {
      "cell_type": "code",
      "metadata": {
        "id": "KKPQATPPjURO"
      },
      "source": [
        "cv = KFold(n_splits=10)"
      ],
      "execution_count": 43,
      "outputs": []
    },
    {
      "cell_type": "code",
      "metadata": {
        "colab": {
          "base_uri": "https://localhost:8080/"
        },
        "id": "rqn9lgaKlWa5",
        "outputId": "21aa459e-7f1a-49cf-f33d-7293ee623dbf"
      },
      "source": [
        "Ela = ElasticNet(alpha=0.5 , l1_ratio=0.5)\n",
        "Ela.fit(X_train, y_train)\n"
      ],
      "execution_count": 59,
      "outputs": [
        {
          "output_type": "execute_result",
          "data": {
            "text/plain": [
              "ElasticNet(alpha=0.5, copy_X=True, fit_intercept=True, l1_ratio=0.5,\n",
              "           max_iter=1000, normalize=False, positive=False, precompute=False,\n",
              "           random_state=None, selection='cyclic', tol=0.0001, warm_start=False)"
            ]
          },
          "metadata": {
            "tags": []
          },
          "execution_count": 59
        }
      ]
    },
    {
      "cell_type": "code",
      "metadata": {
        "id": "e4YNBiZfjcJ9"
      },
      "source": [
        "# define grid\n",
        "grid = dict()\n",
        "grid['alpha'] = [1e-5, 1e-4, 1e-3, 1e-2, 1e-1, 0.0, 1.0, 10.0, 100.0]\n",
        "grid['l1_ratio'] = np.arange(0, 0.1, 0.001)"
      ],
      "execution_count": 45,
      "outputs": []
    },
    {
      "cell_type": "code",
      "metadata": {
        "id": "F1eT3a_zjvJV"
      },
      "source": [
        "# define search\n",
        "search = GridSearchCV(Ela, grid, scoring='neg_mean_squared_error', cv=cv , n_jobs=-1)\n",
        "#sorted(sklearn.metrics.SCORERS.keys())"
      ],
      "execution_count": 46,
      "outputs": []
    },
    {
      "cell_type": "code",
      "metadata": {
        "colab": {
          "base_uri": "https://localhost:8080/"
        },
        "id": "M6GMAveFmf7K",
        "outputId": "7dcee663-37fa-4ccc-b241-28a0dd69a4b0"
      },
      "source": [
        "sklearn.metrics.SCORERS.keys()"
      ],
      "execution_count": 47,
      "outputs": [
        {
          "output_type": "execute_result",
          "data": {
            "text/plain": [
              "dict_keys(['explained_variance', 'r2', 'max_error', 'neg_median_absolute_error', 'neg_mean_absolute_error', 'neg_mean_squared_error', 'neg_mean_squared_log_error', 'neg_root_mean_squared_error', 'neg_mean_poisson_deviance', 'neg_mean_gamma_deviance', 'accuracy', 'roc_auc', 'roc_auc_ovr', 'roc_auc_ovo', 'roc_auc_ovr_weighted', 'roc_auc_ovo_weighted', 'balanced_accuracy', 'average_precision', 'neg_log_loss', 'neg_brier_score', 'adjusted_rand_score', 'homogeneity_score', 'completeness_score', 'v_measure_score', 'mutual_info_score', 'adjusted_mutual_info_score', 'normalized_mutual_info_score', 'fowlkes_mallows_score', 'precision', 'precision_macro', 'precision_micro', 'precision_samples', 'precision_weighted', 'recall', 'recall_macro', 'recall_micro', 'recall_samples', 'recall_weighted', 'f1', 'f1_macro', 'f1_micro', 'f1_samples', 'f1_weighted', 'jaccard', 'jaccard_macro', 'jaccard_micro', 'jaccard_samples', 'jaccard_weighted'])"
            ]
          },
          "metadata": {
            "tags": []
          },
          "execution_count": 47
        }
      ]
    },
    {
      "cell_type": "code",
      "metadata": {
        "id": "0Z2X5GnWjxRh"
      },
      "source": [
        "# perform the search\n",
        "results = search.fit(X_train, y_train)"
      ],
      "execution_count": 60,
      "outputs": []
    },
    {
      "cell_type": "code",
      "metadata": {
        "id": "qC4PpNuQj2XM"
      },
      "source": [
        "# summarize\n",
        "mse = -1*results.best_score_\n",
        "print('MSE: %.3f' % mse)\n",
        "print('Config: %s' % results.best_params_)"
      ],
      "execution_count": null,
      "outputs": []
    },
    {
      "cell_type": "code",
      "metadata": {
        "id": "6iHu2bCDkRpN"
      },
      "source": [
        "Ela_gs = ElasticNet(**results.best_params_)"
      ],
      "execution_count": 64,
      "outputs": []
    },
    {
      "cell_type": "code",
      "metadata": {
        "id": "UxSCp_ZZkV9e",
        "colab": {
          "base_uri": "https://localhost:8080/"
        },
        "outputId": "5e7b8bff-8ff6-4bcf-fc81-014e9c2fc3e3"
      },
      "source": [
        "Ela_gs.fit(X_train, y_train)"
      ],
      "execution_count": 65,
      "outputs": [
        {
          "output_type": "execute_result",
          "data": {
            "text/plain": [
              "ElasticNet(alpha=0.0001, copy_X=True, fit_intercept=True, l1_ratio=0.14,\n",
              "           max_iter=1000, normalize=False, positive=False, precompute=False,\n",
              "           random_state=None, selection='cyclic', tol=0.0001, warm_start=False)"
            ]
          },
          "metadata": {
            "tags": []
          },
          "execution_count": 65
        }
      ]
    },
    {
      "cell_type": "code",
      "metadata": {
        "id": "sDZFOiiFka6V"
      },
      "source": [
        "y_h_Ela_train = Ela_gs.predict(X_train)\n",
        "y_h_Ela_test = Ela_gs.predict(X_val)"
      ],
      "execution_count": 66,
      "outputs": []
    },
    {
      "cell_type": "code",
      "metadata": {
        "id": "UWe9xJZfxTU3"
      },
      "source": [
        "from sklearn.metrics import mean_squared_error"
      ],
      "execution_count": 70,
      "outputs": []
    },
    {
      "cell_type": "code",
      "metadata": {
        "id": "V5eSAUT_kgK-",
        "colab": {
          "base_uri": "https://localhost:8080/"
        },
        "outputId": "0a110070-a6f3-441f-8206-a2d04b646e0b"
      },
      "source": [
        "print('Train Error Elastic Net Model', mean_squared_error(y_train , Ela_gs.predict(X_train).reshape(-1,1)))\n",
        "print('Test Error Elastic Net  Model', mean_squared_error(y_val , Ela_gs.predict(X_val).reshape(-1,1)))"
      ],
      "execution_count": 71,
      "outputs": [
        {
          "output_type": "stream",
          "text": [
            "Train Error Elastic Net Model 0.014369239791936467\n",
            "Test Error Elastic Net  Model 0.026539100680753453\n"
          ],
          "name": "stdout"
        }
      ]
    },
    {
      "cell_type": "code",
      "metadata": {
        "id": "jxMBe9xex1in"
      },
      "source": [
        "submission=pd.read_csv(\"/content/SampleSubmission.csv\")"
      ],
      "execution_count": 74,
      "outputs": []
    },
    {
      "cell_type": "code",
      "metadata": {
        "id": "UdZ6E_-oxlWw"
      },
      "source": [
        "submission['Target']=Ela_gs.predict(Test)"
      ],
      "execution_count": 75,
      "outputs": []
    },
    {
      "cell_type": "code",
      "metadata": {
        "colab": {
          "base_uri": "https://localhost:8080/",
          "height": 206
        },
        "id": "AxOWX_J9yOPI",
        "outputId": "10524a6f-bbc9-489f-f2e8-77c5977a0447"
      },
      "source": [
        "submission.head(5)"
      ],
      "execution_count": 76,
      "outputs": [
        {
          "output_type": "execute_result",
          "data": {
            "text/html": [
              "<div>\n",
              "<style scoped>\n",
              "    .dataframe tbody tr th:only-of-type {\n",
              "        vertical-align: middle;\n",
              "    }\n",
              "\n",
              "    .dataframe tbody tr th {\n",
              "        vertical-align: top;\n",
              "    }\n",
              "\n",
              "    .dataframe thead th {\n",
              "        text-align: right;\n",
              "    }\n",
              "</style>\n",
              "<table border=\"1\" class=\"dataframe\">\n",
              "  <thead>\n",
              "    <tr style=\"text-align: right;\">\n",
              "      <th></th>\n",
              "      <th>ID</th>\n",
              "      <th>Target</th>\n",
              "    </tr>\n",
              "  </thead>\n",
              "  <tbody>\n",
              "    <tr>\n",
              "      <th>0</th>\n",
              "      <td>ID_AAcismbB</td>\n",
              "      <td>0.022707</td>\n",
              "    </tr>\n",
              "    <tr>\n",
              "      <th>1</th>\n",
              "      <td>ID_AAeBMsji</td>\n",
              "      <td>0.257180</td>\n",
              "    </tr>\n",
              "    <tr>\n",
              "      <th>2</th>\n",
              "      <td>ID_AAjFMjzy</td>\n",
              "      <td>0.577656</td>\n",
              "    </tr>\n",
              "    <tr>\n",
              "      <th>3</th>\n",
              "      <td>ID_AAmMOEEC</td>\n",
              "      <td>0.379615</td>\n",
              "    </tr>\n",
              "    <tr>\n",
              "      <th>4</th>\n",
              "      <td>ID_ABguzDxp</td>\n",
              "      <td>0.210527</td>\n",
              "    </tr>\n",
              "  </tbody>\n",
              "</table>\n",
              "</div>"
            ],
            "text/plain": [
              "            ID    Target\n",
              "0  ID_AAcismbB  0.022707\n",
              "1  ID_AAeBMsji  0.257180\n",
              "2  ID_AAjFMjzy  0.577656\n",
              "3  ID_AAmMOEEC  0.379615\n",
              "4  ID_ABguzDxp  0.210527"
            ]
          },
          "metadata": {
            "tags": []
          },
          "execution_count": 76
        }
      ]
    },
    {
      "cell_type": "code",
      "metadata": {
        "id": "JOEnL2zbxzRv"
      },
      "source": [
        "submission.to_csv(\"Zindi4.csv\",index=False)"
      ],
      "execution_count": 77,
      "outputs": []
    },
    {
      "cell_type": "markdown",
      "metadata": {
        "id": "mtzIWwlOzwN_"
      },
      "source": [
        "Catboost"
      ]
    },
    {
      "cell_type": "code",
      "metadata": {
        "id": "XQOoO2lkyU7m"
      },
      "source": [
        ""
      ],
      "execution_count": null,
      "outputs": []
    }
  ]
}